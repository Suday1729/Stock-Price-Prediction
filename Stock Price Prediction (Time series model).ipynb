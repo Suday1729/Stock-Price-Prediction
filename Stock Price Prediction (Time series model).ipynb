{
 "cells": [
  {
   "cell_type": "code",
   "execution_count": 29,
   "id": "7277de2f",
   "metadata": {},
   "outputs": [],
   "source": [
    "import numpy as np\n",
    "import pandas as pd\n",
    "import scipy.stats as st\n",
    "import matplotlib.pyplot as plt\n",
    "import seaborn as sns\n",
    "import warnings\n",
    "warnings.filterwarnings('ignore')\n",
    "from sklearn.preprocessing import StandardScaler"
   ]
  },
  {
   "cell_type": "code",
   "execution_count": 2,
   "id": "042425ce",
   "metadata": {},
   "outputs": [],
   "source": [
    "from pylab import rcParams"
   ]
  },
  {
   "cell_type": "code",
   "execution_count": 3,
   "id": "e7e232a3",
   "metadata": {},
   "outputs": [],
   "source": [
    "from statsmodels import tsa"
   ]
  },
  {
   "cell_type": "code",
   "execution_count": 4,
   "id": "102f1cb3",
   "metadata": {},
   "outputs": [],
   "source": [
    "import  scipy.signal.signaltools\n",
    "\n",
    "def _centered(arr, newsize):\n",
    "    # Return the center newsize portion of the array.\n",
    "    newsize = np.asarray(newsize)\n",
    "    currsize = np.array(arr.shape)\n",
    "    startind = (currsize - newsize) // 2\n",
    "    endind = startind + newsize\n",
    "    myslice = [slice(startind[k], endind[k]) for k in range(len(endind))]\n",
    "    return arr[tuple(myslice)]\n",
    "\n",
    "scipy.signal.signaltools._centered = _centered"
   ]
  },
  {
   "cell_type": "code",
   "execution_count": 5,
   "id": "b86e1fda",
   "metadata": {},
   "outputs": [],
   "source": [
    "from statsmodels.tsa.seasonal import  seasonal_decompose"
   ]
  },
  {
   "cell_type": "code",
   "execution_count": 216,
   "id": "ea12e2c9",
   "metadata": {},
   "outputs": [],
   "source": [
    "rcParams['figure.figsize']= 15,8"
   ]
  },
  {
   "cell_type": "code",
   "execution_count": 7,
   "id": "825e5817",
   "metadata": {},
   "outputs": [
    {
     "data": {
      "text/html": [
       "<div>\n",
       "<style scoped>\n",
       "    .dataframe tbody tr th:only-of-type {\n",
       "        vertical-align: middle;\n",
       "    }\n",
       "\n",
       "    .dataframe tbody tr th {\n",
       "        vertical-align: top;\n",
       "    }\n",
       "\n",
       "    .dataframe thead th {\n",
       "        text-align: right;\n",
       "    }\n",
       "</style>\n",
       "<table border=\"1\" class=\"dataframe\">\n",
       "  <thead>\n",
       "    <tr style=\"text-align: right;\">\n",
       "      <th></th>\n",
       "      <th>Date</th>\n",
       "      <th>series</th>\n",
       "      <th>OPEN</th>\n",
       "      <th>HIGH</th>\n",
       "      <th>LOW</th>\n",
       "      <th>PREV. CLOSE</th>\n",
       "      <th>ltp</th>\n",
       "      <th>close</th>\n",
       "      <th>vwap</th>\n",
       "      <th>52W H</th>\n",
       "      <th>52W L</th>\n",
       "      <th>VOLUME</th>\n",
       "      <th>VALUE</th>\n",
       "      <th>No of trades</th>\n",
       "      <th>sort</th>\n",
       "    </tr>\n",
       "  </thead>\n",
       "  <tbody>\n",
       "    <tr>\n",
       "      <th>0</th>\n",
       "      <td>2020-04-03</td>\n",
       "      <td>EQ</td>\n",
       "      <td>1615.1</td>\n",
       "      <td>1616.00</td>\n",
       "      <td>1517.25</td>\n",
       "      <td>1603.20</td>\n",
       "      <td>1522.00</td>\n",
       "      <td>1520.90</td>\n",
       "      <td>1536.04</td>\n",
       "      <td>1916.7</td>\n",
       "      <td>1291.25</td>\n",
       "      <td>2925847</td>\n",
       "      <td>4.494204e+09</td>\n",
       "      <td>134230</td>\n",
       "      <td>497</td>\n",
       "    </tr>\n",
       "    <tr>\n",
       "      <th>1</th>\n",
       "      <td>2020-04-07</td>\n",
       "      <td>EQ</td>\n",
       "      <td>1540.0</td>\n",
       "      <td>1635.00</td>\n",
       "      <td>1538.00</td>\n",
       "      <td>1520.90</td>\n",
       "      <td>1625.20</td>\n",
       "      <td>1623.80</td>\n",
       "      <td>1597.81</td>\n",
       "      <td>1916.7</td>\n",
       "      <td>1291.25</td>\n",
       "      <td>2733614</td>\n",
       "      <td>4.367787e+09</td>\n",
       "      <td>123428</td>\n",
       "      <td>496</td>\n",
       "    </tr>\n",
       "    <tr>\n",
       "      <th>2</th>\n",
       "      <td>2020-04-08</td>\n",
       "      <td>EQ</td>\n",
       "      <td>1623.8</td>\n",
       "      <td>1687.80</td>\n",
       "      <td>1600.00</td>\n",
       "      <td>1623.80</td>\n",
       "      <td>1608.00</td>\n",
       "      <td>1608.95</td>\n",
       "      <td>1642.03</td>\n",
       "      <td>1916.7</td>\n",
       "      <td>1291.25</td>\n",
       "      <td>2382216</td>\n",
       "      <td>3.911659e+09</td>\n",
       "      <td>101146</td>\n",
       "      <td>495</td>\n",
       "    </tr>\n",
       "    <tr>\n",
       "      <th>3</th>\n",
       "      <td>2020-04-09</td>\n",
       "      <td>EQ</td>\n",
       "      <td>1640.0</td>\n",
       "      <td>1678.90</td>\n",
       "      <td>1618.95</td>\n",
       "      <td>1608.95</td>\n",
       "      <td>1644.05</td>\n",
       "      <td>1651.35</td>\n",
       "      <td>1653.37</td>\n",
       "      <td>1916.7</td>\n",
       "      <td>1291.25</td>\n",
       "      <td>1489546</td>\n",
       "      <td>2.462772e+09</td>\n",
       "      <td>69005</td>\n",
       "      <td>494</td>\n",
       "    </tr>\n",
       "    <tr>\n",
       "      <th>4</th>\n",
       "      <td>2020-04-13</td>\n",
       "      <td>EQ</td>\n",
       "      <td>1646.0</td>\n",
       "      <td>1703.65</td>\n",
       "      <td>1602.85</td>\n",
       "      <td>1651.35</td>\n",
       "      <td>1664.50</td>\n",
       "      <td>1680.85</td>\n",
       "      <td>1651.58</td>\n",
       "      <td>1916.7</td>\n",
       "      <td>1291.25</td>\n",
       "      <td>2586216</td>\n",
       "      <td>4.271342e+09</td>\n",
       "      <td>118296</td>\n",
       "      <td>493</td>\n",
       "    </tr>\n",
       "  </tbody>\n",
       "</table>\n",
       "</div>"
      ],
      "text/plain": [
       "       Date  series    OPEN     HIGH      LOW   PREV. CLOSE      ltp   \\\n",
       "0 2020-04-03      EQ  1615.1  1616.00  1517.25       1603.20  1522.00   \n",
       "1 2020-04-07      EQ  1540.0  1635.00  1538.00       1520.90  1625.20   \n",
       "2 2020-04-08      EQ  1623.8  1687.80  1600.00       1623.80  1608.00   \n",
       "3 2020-04-09      EQ  1640.0  1678.90  1618.95       1608.95  1644.05   \n",
       "4 2020-04-13      EQ  1646.0  1703.65  1602.85       1651.35  1664.50   \n",
       "\n",
       "    close     vwap   52W H    52W L   VOLUME         VALUE   No of trades   \\\n",
       "0  1520.90  1536.04  1916.7  1291.25  2925847  4.494204e+09         134230   \n",
       "1  1623.80  1597.81  1916.7  1291.25  2733614  4.367787e+09         123428   \n",
       "2  1608.95  1642.03  1916.7  1291.25  2382216  3.911659e+09         101146   \n",
       "3  1651.35  1653.37  1916.7  1291.25  1489546  2.462772e+09          69005   \n",
       "4  1680.85  1651.58  1916.7  1291.25  2586216  4.271342e+09         118296   \n",
       "\n",
       "   sort  \n",
       "0   497  \n",
       "1   496  \n",
       "2   495  \n",
       "3   494  \n",
       "4   493  "
      ]
     },
     "execution_count": 7,
     "metadata": {},
     "output_type": "execute_result"
    }
   ],
   "source": [
    "s= pd.read_excel('Quote-Equity-ASIANPAINT-EQ-02-04-2020-to-02-04-2022 b.xlsx')\n",
    "s.head()"
   ]
  },
  {
   "cell_type": "code",
   "execution_count": 8,
   "id": "fc8ff9db",
   "metadata": {
    "scrolled": true
   },
   "outputs": [
    {
     "name": "stdout",
     "output_type": "stream",
     "text": [
      "<class 'pandas.core.frame.DataFrame'>\n",
      "RangeIndex: 497 entries, 0 to 496\n",
      "Data columns (total 15 columns):\n",
      " #   Column         Non-Null Count  Dtype         \n",
      "---  ------         --------------  -----         \n",
      " 0   Date           497 non-null    datetime64[ns]\n",
      " 1   series         497 non-null    object        \n",
      " 2   OPEN           497 non-null    float64       \n",
      " 3   HIGH           497 non-null    float64       \n",
      " 4   LOW            497 non-null    float64       \n",
      " 5   PREV. CLOSE    497 non-null    float64       \n",
      " 6   ltp            497 non-null    float64       \n",
      " 7   close          497 non-null    float64       \n",
      " 8   vwap           497 non-null    float64       \n",
      " 9   52W H          497 non-null    float64       \n",
      " 10  52W L          497 non-null    float64       \n",
      " 11  VOLUME         497 non-null    int64         \n",
      " 12  VALUE          497 non-null    float64       \n",
      " 13  No of trades   497 non-null    int64         \n",
      " 14  sort           497 non-null    int64         \n",
      "dtypes: datetime64[ns](1), float64(10), int64(3), object(1)\n",
      "memory usage: 58.4+ KB\n"
     ]
    }
   ],
   "source": [
    "s.info()"
   ]
  },
  {
   "cell_type": "code",
   "execution_count": 9,
   "id": "127ce3c7",
   "metadata": {},
   "outputs": [
    {
     "data": {
      "text/plain": [
       "Index(['Date ', 'series ', 'OPEN ', 'HIGH ', 'LOW ', 'PREV. CLOSE ', 'ltp ',\n",
       "       'close ', 'vwap ', '52W H ', '52W L ', 'VOLUME ', 'VALUE ',\n",
       "       'No of trades ', 'sort'],\n",
       "      dtype='object')"
      ]
     },
     "execution_count": 9,
     "metadata": {},
     "output_type": "execute_result"
    }
   ],
   "source": [
    "s.columns"
   ]
  },
  {
   "cell_type": "code",
   "execution_count": 10,
   "id": "2122cb06",
   "metadata": {},
   "outputs": [
    {
     "data": {
      "text/html": [
       "<div>\n",
       "<style scoped>\n",
       "    .dataframe tbody tr th:only-of-type {\n",
       "        vertical-align: middle;\n",
       "    }\n",
       "\n",
       "    .dataframe tbody tr th {\n",
       "        vertical-align: top;\n",
       "    }\n",
       "\n",
       "    .dataframe thead th {\n",
       "        text-align: right;\n",
       "    }\n",
       "</style>\n",
       "<table border=\"1\" class=\"dataframe\">\n",
       "  <thead>\n",
       "    <tr style=\"text-align: right;\">\n",
       "      <th></th>\n",
       "      <th>Date</th>\n",
       "      <th>close</th>\n",
       "    </tr>\n",
       "  </thead>\n",
       "  <tbody>\n",
       "    <tr>\n",
       "      <th>0</th>\n",
       "      <td>2020-04-03</td>\n",
       "      <td>1520.90</td>\n",
       "    </tr>\n",
       "    <tr>\n",
       "      <th>1</th>\n",
       "      <td>2020-04-07</td>\n",
       "      <td>1623.80</td>\n",
       "    </tr>\n",
       "    <tr>\n",
       "      <th>2</th>\n",
       "      <td>2020-04-08</td>\n",
       "      <td>1608.95</td>\n",
       "    </tr>\n",
       "    <tr>\n",
       "      <th>3</th>\n",
       "      <td>2020-04-09</td>\n",
       "      <td>1651.35</td>\n",
       "    </tr>\n",
       "    <tr>\n",
       "      <th>4</th>\n",
       "      <td>2020-04-13</td>\n",
       "      <td>1680.85</td>\n",
       "    </tr>\n",
       "  </tbody>\n",
       "</table>\n",
       "</div>"
      ],
      "text/plain": [
       "       Date    close \n",
       "0 2020-04-03  1520.90\n",
       "1 2020-04-07  1623.80\n",
       "2 2020-04-08  1608.95\n",
       "3 2020-04-09  1651.35\n",
       "4 2020-04-13  1680.85"
      ]
     },
     "execution_count": 10,
     "metadata": {},
     "output_type": "execute_result"
    }
   ],
   "source": [
    "df= s[['Date ', 'close ']] \n",
    "df.head()"
   ]
  },
  {
   "cell_type": "code",
   "execution_count": 11,
   "id": "9a4dd2d5",
   "metadata": {},
   "outputs": [
    {
     "data": {
      "text/html": [
       "<div>\n",
       "<style scoped>\n",
       "    .dataframe tbody tr th:only-of-type {\n",
       "        vertical-align: middle;\n",
       "    }\n",
       "\n",
       "    .dataframe tbody tr th {\n",
       "        vertical-align: top;\n",
       "    }\n",
       "\n",
       "    .dataframe thead th {\n",
       "        text-align: right;\n",
       "    }\n",
       "</style>\n",
       "<table border=\"1\" class=\"dataframe\">\n",
       "  <thead>\n",
       "    <tr style=\"text-align: right;\">\n",
       "      <th></th>\n",
       "      <th>Date</th>\n",
       "      <th>close</th>\n",
       "    </tr>\n",
       "  </thead>\n",
       "  <tbody>\n",
       "    <tr>\n",
       "      <th>492</th>\n",
       "      <td>2022-03-28</td>\n",
       "      <td>3027.45</td>\n",
       "    </tr>\n",
       "    <tr>\n",
       "      <th>493</th>\n",
       "      <td>2022-03-29</td>\n",
       "      <td>3042.60</td>\n",
       "    </tr>\n",
       "    <tr>\n",
       "      <th>494</th>\n",
       "      <td>2022-03-30</td>\n",
       "      <td>3081.55</td>\n",
       "    </tr>\n",
       "    <tr>\n",
       "      <th>495</th>\n",
       "      <td>2022-03-31</td>\n",
       "      <td>3079.95</td>\n",
       "    </tr>\n",
       "    <tr>\n",
       "      <th>496</th>\n",
       "      <td>2022-04-01</td>\n",
       "      <td>3114.15</td>\n",
       "    </tr>\n",
       "  </tbody>\n",
       "</table>\n",
       "</div>"
      ],
      "text/plain": [
       "         Date    close \n",
       "492 2022-03-28  3027.45\n",
       "493 2022-03-29  3042.60\n",
       "494 2022-03-30  3081.55\n",
       "495 2022-03-31  3079.95\n",
       "496 2022-04-01  3114.15"
      ]
     },
     "execution_count": 11,
     "metadata": {},
     "output_type": "execute_result"
    }
   ],
   "source": [
    "df.tail()"
   ]
  },
  {
   "cell_type": "code",
   "execution_count": 12,
   "id": "beb9c835",
   "metadata": {},
   "outputs": [
    {
     "name": "stdout",
     "output_type": "stream",
     "text": [
      "<class 'pandas.core.frame.DataFrame'>\n",
      "RangeIndex: 497 entries, 0 to 496\n",
      "Data columns (total 2 columns):\n",
      " #   Column  Non-Null Count  Dtype         \n",
      "---  ------  --------------  -----         \n",
      " 0   Date    497 non-null    datetime64[ns]\n",
      " 1   close   497 non-null    float64       \n",
      "dtypes: datetime64[ns](1), float64(1)\n",
      "memory usage: 7.9 KB\n"
     ]
    }
   ],
   "source": [
    "df.info()"
   ]
  },
  {
   "cell_type": "code",
   "execution_count": 13,
   "id": "fbd2fe34",
   "metadata": {},
   "outputs": [],
   "source": [
    "df.rename(columns = {'close ':'close', 'Date ':'Date'}, inplace = True)"
   ]
  },
  {
   "cell_type": "code",
   "execution_count": 14,
   "id": "889c6cd6",
   "metadata": {
    "scrolled": true
   },
   "outputs": [
    {
     "data": {
      "text/html": [
       "<div>\n",
       "<style scoped>\n",
       "    .dataframe tbody tr th:only-of-type {\n",
       "        vertical-align: middle;\n",
       "    }\n",
       "\n",
       "    .dataframe tbody tr th {\n",
       "        vertical-align: top;\n",
       "    }\n",
       "\n",
       "    .dataframe thead th {\n",
       "        text-align: right;\n",
       "    }\n",
       "</style>\n",
       "<table border=\"1\" class=\"dataframe\">\n",
       "  <thead>\n",
       "    <tr style=\"text-align: right;\">\n",
       "      <th></th>\n",
       "      <th>Date</th>\n",
       "      <th>close</th>\n",
       "    </tr>\n",
       "  </thead>\n",
       "  <tbody>\n",
       "    <tr>\n",
       "      <th>0</th>\n",
       "      <td>2020-04-03</td>\n",
       "      <td>1520.90</td>\n",
       "    </tr>\n",
       "    <tr>\n",
       "      <th>1</th>\n",
       "      <td>2020-04-07</td>\n",
       "      <td>1623.80</td>\n",
       "    </tr>\n",
       "    <tr>\n",
       "      <th>2</th>\n",
       "      <td>2020-04-08</td>\n",
       "      <td>1608.95</td>\n",
       "    </tr>\n",
       "    <tr>\n",
       "      <th>3</th>\n",
       "      <td>2020-04-09</td>\n",
       "      <td>1651.35</td>\n",
       "    </tr>\n",
       "    <tr>\n",
       "      <th>4</th>\n",
       "      <td>2020-04-13</td>\n",
       "      <td>1680.85</td>\n",
       "    </tr>\n",
       "  </tbody>\n",
       "</table>\n",
       "</div>"
      ],
      "text/plain": [
       "        Date    close\n",
       "0 2020-04-03  1520.90\n",
       "1 2020-04-07  1623.80\n",
       "2 2020-04-08  1608.95\n",
       "3 2020-04-09  1651.35\n",
       "4 2020-04-13  1680.85"
      ]
     },
     "execution_count": 14,
     "metadata": {},
     "output_type": "execute_result"
    }
   ],
   "source": [
    "df.head()"
   ]
  },
  {
   "cell_type": "code",
   "execution_count": 15,
   "id": "048c7054",
   "metadata": {},
   "outputs": [
    {
     "data": {
      "text/plain": [
       "Index(['Date', 'close'], dtype='object')"
      ]
     },
     "execution_count": 15,
     "metadata": {},
     "output_type": "execute_result"
    }
   ],
   "source": [
    "df.columns"
   ]
  },
  {
   "cell_type": "code",
   "execution_count": null,
   "id": "230a957d",
   "metadata": {},
   "outputs": [],
   "source": []
  },
  {
   "cell_type": "code",
   "execution_count": 16,
   "id": "bcbf8a71",
   "metadata": {},
   "outputs": [
    {
     "data": {
      "text/html": [
       "<div>\n",
       "<style scoped>\n",
       "    .dataframe tbody tr th:only-of-type {\n",
       "        vertical-align: middle;\n",
       "    }\n",
       "\n",
       "    .dataframe tbody tr th {\n",
       "        vertical-align: top;\n",
       "    }\n",
       "\n",
       "    .dataframe thead th {\n",
       "        text-align: right;\n",
       "    }\n",
       "</style>\n",
       "<table border=\"1\" class=\"dataframe\">\n",
       "  <thead>\n",
       "    <tr style=\"text-align: right;\">\n",
       "      <th></th>\n",
       "      <th>close</th>\n",
       "    </tr>\n",
       "    <tr>\n",
       "      <th>Date</th>\n",
       "      <th></th>\n",
       "    </tr>\n",
       "  </thead>\n",
       "  <tbody>\n",
       "    <tr>\n",
       "      <th>2020-04-03</th>\n",
       "      <td>1520.90</td>\n",
       "    </tr>\n",
       "    <tr>\n",
       "      <th>2020-04-07</th>\n",
       "      <td>1623.80</td>\n",
       "    </tr>\n",
       "    <tr>\n",
       "      <th>2020-04-08</th>\n",
       "      <td>1608.95</td>\n",
       "    </tr>\n",
       "    <tr>\n",
       "      <th>2020-04-09</th>\n",
       "      <td>1651.35</td>\n",
       "    </tr>\n",
       "    <tr>\n",
       "      <th>2020-04-13</th>\n",
       "      <td>1680.85</td>\n",
       "    </tr>\n",
       "  </tbody>\n",
       "</table>\n",
       "</div>"
      ],
      "text/plain": [
       "              close\n",
       "Date               \n",
       "2020-04-03  1520.90\n",
       "2020-04-07  1623.80\n",
       "2020-04-08  1608.95\n",
       "2020-04-09  1651.35\n",
       "2020-04-13  1680.85"
      ]
     },
     "execution_count": 16,
     "metadata": {},
     "output_type": "execute_result"
    }
   ],
   "source": [
    "df.set_index(keys= 'Date', drop=True, inplace= True)\n",
    "df.head()"
   ]
  },
  {
   "cell_type": "code",
   "execution_count": 17,
   "id": "c1bb0905",
   "metadata": {
    "scrolled": true
   },
   "outputs": [
    {
     "data": {
      "text/plain": [
       "<AxesSubplot:xlabel='Date'>"
      ]
     },
     "execution_count": 17,
     "metadata": {},
     "output_type": "execute_result"
    },
    {
     "data": {
      "image/png": "[encoded data removed]",
      "text/plain": [
       "<Figure size 1080x576 with 1 Axes>"
      ]
     },
     "metadata": {
      "needs_background": "light"
     },
     "output_type": "display_data"
    }
   ],
   "source": [
    "df.plot(grid=True)"
   ]
  },
  {
   "cell_type": "code",
   "execution_count": null,
   "id": "40953451",
   "metadata": {},
   "outputs": [],
   "source": []
  },
  {
   "cell_type": "markdown",
   "id": "1a1894ed",
   "metadata": {},
   "source": [
    "## Decomposition : Additive"
   ]
  },
  {
   "cell_type": "code",
   "execution_count": 18,
   "id": "bda28044",
   "metadata": {
    "scrolled": true
   },
   "outputs": [
    {
     "data": {
      "image/png": "[encoded data removed]",
      "text/plain": [
       "<Figure size 1080x576 with 4 Axes>"
      ]
     },
     "metadata": {
      "needs_background": "light"
     },
     "output_type": "display_data"
    }
   ],
   "source": [
    "decomp_add = seasonal_decompose(df,model='additive', period=1)\n",
    "decomp_add.plot();"
   ]
  },
  {
   "cell_type": "code",
   "execution_count": null,
   "id": "85de78a4",
   "metadata": {},
   "outputs": [],
   "source": []
  },
  {
   "cell_type": "markdown",
   "id": "ffcaef4e",
   "metadata": {},
   "source": [
    "## Decomposition : Multiplicative"
   ]
  },
  {
   "cell_type": "code",
   "execution_count": 19,
   "id": "3ecf731f",
   "metadata": {},
   "outputs": [
    {
     "data": {
      "image/png": "[encoded data removed]",
      "text/plain": [
       "<Figure size 1080x576 with 4 Axes>"
      ]
     },
     "metadata": {
      "needs_background": "light"
     },
     "output_type": "display_data"
    }
   ],
   "source": [
    "decomp_mult = seasonal_decompose(df,model='multiplicative', period=1)\n",
    "decomp_mult.plot();"
   ]
  },
  {
   "cell_type": "code",
   "execution_count": null,
   "id": "c22bdc44",
   "metadata": {},
   "outputs": [],
   "source": []
  },
  {
   "cell_type": "code",
   "execution_count": 20,
   "id": "951cd34a",
   "metadata": {},
   "outputs": [],
   "source": [
    "from   statsmodels.tsa.api   import ExponentialSmoothing, SimpleExpSmoothing, Holt"
   ]
  },
  {
   "cell_type": "code",
   "execution_count": 21,
   "id": "e17f1447",
   "metadata": {},
   "outputs": [],
   "source": [
    "import statsmodels.tools.eval_measures as  em\n",
    "from   sklearn.metrics  import  mean_squared_error"
   ]
  },
  {
   "cell_type": "code",
   "execution_count": null,
   "id": "472f54e7",
   "metadata": {},
   "outputs": [],
   "source": []
  },
  {
   "cell_type": "code",
   "execution_count": 22,
   "id": "34b65244",
   "metadata": {},
   "outputs": [],
   "source": [
    "train = df[df.index<='2021-09-30'] # 75-25 split\n",
    "test = df[df.index>'2021-09-30']"
   ]
  },
  {
   "cell_type": "code",
   "execution_count": 23,
   "id": "cc4b6468",
   "metadata": {},
   "outputs": [
    {
     "data": {
      "text/plain": [
       "(372, 1)"
      ]
     },
     "execution_count": 23,
     "metadata": {},
     "output_type": "execute_result"
    }
   ],
   "source": [
    "train.shape"
   ]
  },
  {
   "cell_type": "code",
   "execution_count": 24,
   "id": "a4940c4e",
   "metadata": {},
   "outputs": [
    {
     "data": {
      "text/plain": [
       "(125, 1)"
      ]
     },
     "execution_count": 24,
     "metadata": {},
     "output_type": "execute_result"
    }
   ],
   "source": [
    "test.shape"
   ]
  },
  {
   "cell_type": "code",
   "execution_count": 25,
   "id": "0b753197",
   "metadata": {},
   "outputs": [
    {
     "data": {
      "text/plain": [
       "(497, 1)"
      ]
     },
     "execution_count": 25,
     "metadata": {},
     "output_type": "execute_result"
    }
   ],
   "source": [
    "df.shape"
   ]
  },
  {
   "cell_type": "code",
   "execution_count": 26,
   "id": "7595d56e",
   "metadata": {
    "scrolled": true
   },
   "outputs": [
    {
     "data": {
      "text/html": [
       "<div>\n",
       "<style scoped>\n",
       "    .dataframe tbody tr th:only-of-type {\n",
       "        vertical-align: middle;\n",
       "    }\n",
       "\n",
       "    .dataframe tbody tr th {\n",
       "        vertical-align: top;\n",
       "    }\n",
       "\n",
       "    .dataframe thead th {\n",
       "        text-align: right;\n",
       "    }\n",
       "</style>\n",
       "<table border=\"1\" class=\"dataframe\">\n",
       "  <thead>\n",
       "    <tr style=\"text-align: right;\">\n",
       "      <th></th>\n",
       "      <th>close</th>\n",
       "    </tr>\n",
       "    <tr>\n",
       "      <th>Date</th>\n",
       "      <th></th>\n",
       "    </tr>\n",
       "  </thead>\n",
       "  <tbody>\n",
       "    <tr>\n",
       "      <th>2021-09-24</th>\n",
       "      <td>3448.60</td>\n",
       "    </tr>\n",
       "    <tr>\n",
       "      <th>2021-09-27</th>\n",
       "      <td>3430.65</td>\n",
       "    </tr>\n",
       "    <tr>\n",
       "      <th>2021-09-28</th>\n",
       "      <td>3379.70</td>\n",
       "    </tr>\n",
       "    <tr>\n",
       "      <th>2021-09-29</th>\n",
       "      <td>3323.05</td>\n",
       "    </tr>\n",
       "    <tr>\n",
       "      <th>2021-09-30</th>\n",
       "      <td>3244.65</td>\n",
       "    </tr>\n",
       "  </tbody>\n",
       "</table>\n",
       "</div>"
      ],
      "text/plain": [
       "              close\n",
       "Date               \n",
       "2021-09-24  3448.60\n",
       "2021-09-27  3430.65\n",
       "2021-09-28  3379.70\n",
       "2021-09-29  3323.05\n",
       "2021-09-30  3244.65"
      ]
     },
     "execution_count": 26,
     "metadata": {},
     "output_type": "execute_result"
    }
   ],
   "source": [
    "train.tail()"
   ]
  },
  {
   "cell_type": "code",
   "execution_count": 27,
   "id": "cfb2ca89",
   "metadata": {},
   "outputs": [
    {
     "data": {
      "text/html": [
       "<div>\n",
       "<style scoped>\n",
       "    .dataframe tbody tr th:only-of-type {\n",
       "        vertical-align: middle;\n",
       "    }\n",
       "\n",
       "    .dataframe tbody tr th {\n",
       "        vertical-align: top;\n",
       "    }\n",
       "\n",
       "    .dataframe thead th {\n",
       "        text-align: right;\n",
       "    }\n",
       "</style>\n",
       "<table border=\"1\" class=\"dataframe\">\n",
       "  <thead>\n",
       "    <tr style=\"text-align: right;\">\n",
       "      <th></th>\n",
       "      <th>close</th>\n",
       "    </tr>\n",
       "    <tr>\n",
       "      <th>Date</th>\n",
       "      <th></th>\n",
       "    </tr>\n",
       "  </thead>\n",
       "  <tbody>\n",
       "    <tr>\n",
       "      <th>2021-10-01</th>\n",
       "      <td>3177.85</td>\n",
       "    </tr>\n",
       "    <tr>\n",
       "      <th>2021-10-04</th>\n",
       "      <td>3201.60</td>\n",
       "    </tr>\n",
       "    <tr>\n",
       "      <th>2021-10-05</th>\n",
       "      <td>3254.75</td>\n",
       "    </tr>\n",
       "    <tr>\n",
       "      <th>2021-10-06</th>\n",
       "      <td>3212.25</td>\n",
       "    </tr>\n",
       "    <tr>\n",
       "      <th>2021-10-07</th>\n",
       "      <td>3290.85</td>\n",
       "    </tr>\n",
       "  </tbody>\n",
       "</table>\n",
       "</div>"
      ],
      "text/plain": [
       "              close\n",
       "Date               \n",
       "2021-10-01  3177.85\n",
       "2021-10-04  3201.60\n",
       "2021-10-05  3254.75\n",
       "2021-10-06  3212.25\n",
       "2021-10-07  3290.85"
      ]
     },
     "execution_count": 27,
     "metadata": {},
     "output_type": "execute_result"
    }
   ],
   "source": [
    "test.head()"
   ]
  },
  {
   "cell_type": "markdown",
   "id": "8fcae923",
   "metadata": {},
   "source": [
    "### Simple Exp smoothing"
   ]
  },
  {
   "cell_type": "code",
   "execution_count": 30,
   "id": "83b4b5e8",
   "metadata": {},
   "outputs": [],
   "source": [
    "model_ses = SimpleExpSmoothing(train,initialization_method='estimated')"
   ]
  },
  {
   "cell_type": "code",
   "execution_count": 31,
   "id": "a8874a47",
   "metadata": {},
   "outputs": [],
   "source": [
    "model_ses_autofit = model_ses.fit(optimized=True)"
   ]
  },
  {
   "cell_type": "code",
   "execution_count": 33,
   "id": "20900218",
   "metadata": {},
   "outputs": [
    {
     "data": {
      "text/plain": [
       "{'smoothing_level': 0.9694771583136609,\n",
       " 'smoothing_trend': nan,\n",
       " 'smoothing_seasonal': nan,\n",
       " 'damping_trend': nan,\n",
       " 'initial_level': 1524.0270197056084,\n",
       " 'initial_trend': nan,\n",
       " 'initial_seasons': array([], dtype=float64),\n",
       " 'use_boxcox': False,\n",
       " 'lamda': None,\n",
       " 'remove_bias': False}"
      ]
     },
     "execution_count": 33,
     "metadata": {},
     "output_type": "execute_result"
    }
   ],
   "source": [
    "model_ses_autofit.params"
   ]
  },
  {
   "cell_type": "code",
   "execution_count": 34,
   "id": "edb17f8e",
   "metadata": {},
   "outputs": [],
   "source": [
    "ses_predict = model_ses_autofit.forecast(steps=len(test))"
   ]
  },
  {
   "cell_type": "code",
   "execution_count": 36,
   "id": "db70dccd",
   "metadata": {
    "scrolled": true
   },
   "outputs": [
    {
     "data": {
      "text/plain": [
       "372    3247.097229\n",
       "373    3247.097229\n",
       "374    3247.097229\n",
       "375    3247.097229\n",
       "376    3247.097229\n",
       "          ...     \n",
       "492    3247.097229\n",
       "493    3247.097229\n",
       "494    3247.097229\n",
       "495    3247.097229\n",
       "496    3247.097229\n",
       "Length: 125, dtype: float64"
      ]
     },
     "execution_count": 36,
     "metadata": {},
     "output_type": "execute_result"
    }
   ],
   "source": [
    "ses_predict"
   ]
  },
  {
   "cell_type": "code",
   "execution_count": 37,
   "id": "8e9bd646",
   "metadata": {},
   "outputs": [],
   "source": [
    "ses_predict15 = model_ses_autofit.forecast(steps=len(test)+15) # Predict extra next 15 days"
   ]
  },
  {
   "cell_type": "code",
   "execution_count": 38,
   "id": "1d8899b3",
   "metadata": {
    "scrolled": false
   },
   "outputs": [
    {
     "data": {
      "text/plain": [
       "372    3247.097229\n",
       "373    3247.097229\n",
       "374    3247.097229\n",
       "375    3247.097229\n",
       "376    3247.097229\n",
       "          ...     \n",
       "507    3247.097229\n",
       "508    3247.097229\n",
       "509    3247.097229\n",
       "510    3247.097229\n",
       "511    3247.097229\n",
       "Length: 140, dtype: float64"
      ]
     },
     "execution_count": 38,
     "metadata": {},
     "output_type": "execute_result"
    }
   ],
   "source": [
    "ses_predict15"
   ]
  },
  {
   "cell_type": "code",
   "execution_count": 238,
   "id": "2f305bb7",
   "metadata": {},
   "outputs": [
    {
     "data": {
      "text/plain": [
       "140"
      ]
     },
     "execution_count": 238,
     "metadata": {},
     "output_type": "execute_result"
    }
   ],
   "source": [
    "ses_pred_list= list(ses_predict15)\n",
    "len(ses_pred_list)"
   ]
  },
  {
   "cell_type": "code",
   "execution_count": null,
   "id": "08ff22b0",
   "metadata": {},
   "outputs": [],
   "source": []
  },
  {
   "cell_type": "code",
   "execution_count": 39,
   "id": "d1dc8e3e",
   "metadata": {},
   "outputs": [
    {
     "data": {
      "text/html": [
       "<div>\n",
       "<style scoped>\n",
       "    .dataframe tbody tr th:only-of-type {\n",
       "        vertical-align: middle;\n",
       "    }\n",
       "\n",
       "    .dataframe tbody tr th {\n",
       "        vertical-align: top;\n",
       "    }\n",
       "\n",
       "    .dataframe thead th {\n",
       "        text-align: right;\n",
       "    }\n",
       "</style>\n",
       "<table border=\"1\" class=\"dataframe\">\n",
       "  <thead>\n",
       "    <tr style=\"text-align: right;\">\n",
       "      <th></th>\n",
       "      <th>close</th>\n",
       "    </tr>\n",
       "    <tr>\n",
       "      <th>Date</th>\n",
       "      <th></th>\n",
       "    </tr>\n",
       "  </thead>\n",
       "  <tbody>\n",
       "    <tr>\n",
       "      <th>2021-10-01</th>\n",
       "      <td>3177.85</td>\n",
       "    </tr>\n",
       "    <tr>\n",
       "      <th>2021-10-04</th>\n",
       "      <td>3201.60</td>\n",
       "    </tr>\n",
       "    <tr>\n",
       "      <th>2021-10-05</th>\n",
       "      <td>3254.75</td>\n",
       "    </tr>\n",
       "    <tr>\n",
       "      <th>2021-10-06</th>\n",
       "      <td>3212.25</td>\n",
       "    </tr>\n",
       "    <tr>\n",
       "      <th>2021-10-07</th>\n",
       "      <td>3290.85</td>\n",
       "    </tr>\n",
       "  </tbody>\n",
       "</table>\n",
       "</div>"
      ],
      "text/plain": [
       "              close\n",
       "Date               \n",
       "2021-10-01  3177.85\n",
       "2021-10-04  3201.60\n",
       "2021-10-05  3254.75\n",
       "2021-10-06  3212.25\n",
       "2021-10-07  3290.85"
      ]
     },
     "execution_count": 39,
     "metadata": {},
     "output_type": "execute_result"
    }
   ],
   "source": [
    "test.head()"
   ]
  },
  {
   "cell_type": "code",
   "execution_count": 40,
   "id": "417a9add",
   "metadata": {},
   "outputs": [
    {
     "data": {
      "text/plain": [
       "[Timestamp('2021-10-01 00:00:00'),\n",
       " Timestamp('2021-10-04 00:00:00'),\n",
       " Timestamp('2021-10-05 00:00:00'),\n",
       " Timestamp('2021-10-06 00:00:00'),\n",
       " Timestamp('2021-10-07 00:00:00'),\n",
       " Timestamp('2021-10-08 00:00:00'),\n",
       " Timestamp('2021-10-11 00:00:00'),\n",
       " Timestamp('2021-10-12 00:00:00'),\n",
       " Timestamp('2021-10-13 00:00:00'),\n",
       " Timestamp('2021-10-14 00:00:00'),\n",
       " Timestamp('2021-10-18 00:00:00'),\n",
       " Timestamp('2021-10-19 00:00:00'),\n",
       " Timestamp('2021-10-20 00:00:00'),\n",
       " Timestamp('2021-10-21 00:00:00'),\n",
       " Timestamp('2021-10-22 00:00:00'),\n",
       " Timestamp('2021-10-25 00:00:00'),\n",
       " Timestamp('2021-10-26 00:00:00'),\n",
       " Timestamp('2021-10-27 00:00:00'),\n",
       " Timestamp('2021-10-28 00:00:00'),\n",
       " Timestamp('2021-10-29 00:00:00'),\n",
       " Timestamp('2021-11-01 00:00:00'),\n",
       " Timestamp('2021-11-02 00:00:00'),\n",
       " Timestamp('2021-11-03 00:00:00'),\n",
       " Timestamp('2021-11-04 00:00:00'),\n",
       " Timestamp('2021-11-08 00:00:00'),\n",
       " Timestamp('2021-11-09 00:00:00'),\n",
       " Timestamp('2021-11-10 00:00:00'),\n",
       " Timestamp('2021-11-11 00:00:00'),\n",
       " Timestamp('2021-11-12 00:00:00'),\n",
       " Timestamp('2021-11-15 00:00:00'),\n",
       " Timestamp('2021-11-16 00:00:00'),\n",
       " Timestamp('2021-11-17 00:00:00'),\n",
       " Timestamp('2021-11-18 00:00:00'),\n",
       " Timestamp('2021-11-22 00:00:00'),\n",
       " Timestamp('2021-11-23 00:00:00'),\n",
       " Timestamp('2021-11-24 00:00:00'),\n",
       " Timestamp('2021-11-25 00:00:00'),\n",
       " Timestamp('2021-11-26 00:00:00'),\n",
       " Timestamp('2021-11-29 00:00:00'),\n",
       " Timestamp('2021-11-30 00:00:00'),\n",
       " Timestamp('2021-12-01 00:00:00'),\n",
       " Timestamp('2021-12-02 00:00:00'),\n",
       " Timestamp('2021-12-03 00:00:00'),\n",
       " Timestamp('2021-12-06 00:00:00'),\n",
       " Timestamp('2021-12-07 00:00:00'),\n",
       " Timestamp('2021-12-08 00:00:00'),\n",
       " Timestamp('2021-12-09 00:00:00'),\n",
       " Timestamp('2021-12-10 00:00:00'),\n",
       " Timestamp('2021-12-13 00:00:00'),\n",
       " Timestamp('2021-12-14 00:00:00'),\n",
       " Timestamp('2021-12-15 00:00:00'),\n",
       " Timestamp('2021-12-16 00:00:00'),\n",
       " Timestamp('2021-12-17 00:00:00'),\n",
       " Timestamp('2021-12-20 00:00:00'),\n",
       " Timestamp('2021-12-21 00:00:00'),\n",
       " Timestamp('2021-12-22 00:00:00'),\n",
       " Timestamp('2021-12-23 00:00:00'),\n",
       " Timestamp('2021-12-24 00:00:00'),\n",
       " Timestamp('2021-12-27 00:00:00'),\n",
       " Timestamp('2021-12-28 00:00:00'),\n",
       " Timestamp('2021-12-29 00:00:00'),\n",
       " Timestamp('2021-12-30 00:00:00'),\n",
       " Timestamp('2021-12-31 00:00:00'),\n",
       " Timestamp('2022-01-03 00:00:00'),\n",
       " Timestamp('2022-01-04 00:00:00'),\n",
       " Timestamp('2022-01-05 00:00:00'),\n",
       " Timestamp('2022-01-06 00:00:00'),\n",
       " Timestamp('2022-01-07 00:00:00'),\n",
       " Timestamp('2022-01-10 00:00:00'),\n",
       " Timestamp('2022-01-11 00:00:00'),\n",
       " Timestamp('2022-01-12 00:00:00'),\n",
       " Timestamp('2022-01-13 00:00:00'),\n",
       " Timestamp('2022-01-14 00:00:00'),\n",
       " Timestamp('2022-01-17 00:00:00'),\n",
       " Timestamp('2022-01-18 00:00:00'),\n",
       " Timestamp('2022-01-19 00:00:00'),\n",
       " Timestamp('2022-01-20 00:00:00'),\n",
       " Timestamp('2022-01-21 00:00:00'),\n",
       " Timestamp('2022-01-24 00:00:00'),\n",
       " Timestamp('2022-01-25 00:00:00'),\n",
       " Timestamp('2022-01-27 00:00:00'),\n",
       " Timestamp('2022-01-28 00:00:00'),\n",
       " Timestamp('2022-01-31 00:00:00'),\n",
       " Timestamp('2022-02-01 00:00:00'),\n",
       " Timestamp('2022-02-02 00:00:00'),\n",
       " Timestamp('2022-02-03 00:00:00'),\n",
       " Timestamp('2022-02-04 00:00:00'),\n",
       " Timestamp('2022-02-07 00:00:00'),\n",
       " Timestamp('2022-02-08 00:00:00'),\n",
       " Timestamp('2022-02-09 00:00:00'),\n",
       " Timestamp('2022-02-10 00:00:00'),\n",
       " Timestamp('2022-02-11 00:00:00'),\n",
       " Timestamp('2022-02-14 00:00:00'),\n",
       " Timestamp('2022-02-15 00:00:00'),\n",
       " Timestamp('2022-02-16 00:00:00'),\n",
       " Timestamp('2022-02-17 00:00:00'),\n",
       " Timestamp('2022-02-18 00:00:00'),\n",
       " Timestamp('2022-02-21 00:00:00'),\n",
       " Timestamp('2022-02-22 00:00:00'),\n",
       " Timestamp('2022-02-23 00:00:00'),\n",
       " Timestamp('2022-02-24 00:00:00'),\n",
       " Timestamp('2022-02-25 00:00:00'),\n",
       " Timestamp('2022-02-28 00:00:00'),\n",
       " Timestamp('2022-03-02 00:00:00'),\n",
       " Timestamp('2022-03-03 00:00:00'),\n",
       " Timestamp('2022-03-04 00:00:00'),\n",
       " Timestamp('2022-03-07 00:00:00'),\n",
       " Timestamp('2022-03-08 00:00:00'),\n",
       " Timestamp('2022-03-09 00:00:00'),\n",
       " Timestamp('2022-03-10 00:00:00'),\n",
       " Timestamp('2022-03-11 00:00:00'),\n",
       " Timestamp('2022-03-14 00:00:00'),\n",
       " Timestamp('2022-03-15 00:00:00'),\n",
       " Timestamp('2022-03-16 00:00:00'),\n",
       " Timestamp('2022-03-17 00:00:00'),\n",
       " Timestamp('2022-03-21 00:00:00'),\n",
       " Timestamp('2022-03-22 00:00:00'),\n",
       " Timestamp('2022-03-23 00:00:00'),\n",
       " Timestamp('2022-03-24 00:00:00'),\n",
       " Timestamp('2022-03-25 00:00:00'),\n",
       " Timestamp('2022-03-28 00:00:00'),\n",
       " Timestamp('2022-03-29 00:00:00'),\n",
       " Timestamp('2022-03-30 00:00:00'),\n",
       " Timestamp('2022-03-31 00:00:00'),\n",
       " Timestamp('2022-04-01 00:00:00')]"
      ]
     },
     "execution_count": 40,
     "metadata": {},
     "output_type": "execute_result"
    }
   ],
   "source": [
    "test_ind= list(test.index)\n",
    "test_ind"
   ]
  },
  {
   "cell_type": "code",
   "execution_count": null,
   "id": "97ae33ae",
   "metadata": {},
   "outputs": [],
   "source": []
  },
  {
   "cell_type": "code",
   "execution_count": 41,
   "id": "63936f0e",
   "metadata": {},
   "outputs": [
    {
     "data": {
      "text/plain": [
       "DatetimeIndex(['2022-04-02', '2022-04-03', '2022-04-04', '2022-04-05',\n",
       "               '2022-04-06', '2022-04-07', '2022-04-08', '2022-04-09',\n",
       "               '2022-04-10', '2022-04-11', '2022-04-12', '2022-04-13',\n",
       "               '2022-04-14', '2022-04-15', '2022-04-16'],\n",
       "              dtype='datetime64[ns]', freq='D')"
      ]
     },
     "execution_count": 41,
     "metadata": {},
     "output_type": "execute_result"
    }
   ],
   "source": [
    "date15= pd.date_range(start='04/02/2022', end= '04/16/2022', freq='D')\n",
    "date15"
   ]
  },
  {
   "cell_type": "code",
   "execution_count": 42,
   "id": "c1090df7",
   "metadata": {},
   "outputs": [
    {
     "data": {
      "text/plain": [
       "15"
      ]
     },
     "execution_count": 42,
     "metadata": {},
     "output_type": "execute_result"
    }
   ],
   "source": [
    "len(date15)"
   ]
  },
  {
   "cell_type": "code",
   "execution_count": 43,
   "id": "2d7e3ada",
   "metadata": {},
   "outputs": [
    {
     "data": {
      "text/plain": [
       "[Timestamp('2022-04-02 00:00:00', freq='D'),\n",
       " Timestamp('2022-04-03 00:00:00', freq='D'),\n",
       " Timestamp('2022-04-04 00:00:00', freq='D'),\n",
       " Timestamp('2022-04-05 00:00:00', freq='D'),\n",
       " Timestamp('2022-04-06 00:00:00', freq='D'),\n",
       " Timestamp('2022-04-07 00:00:00', freq='D'),\n",
       " Timestamp('2022-04-08 00:00:00', freq='D'),\n",
       " Timestamp('2022-04-09 00:00:00', freq='D'),\n",
       " Timestamp('2022-04-10 00:00:00', freq='D'),\n",
       " Timestamp('2022-04-11 00:00:00', freq='D'),\n",
       " Timestamp('2022-04-12 00:00:00', freq='D'),\n",
       " Timestamp('2022-04-13 00:00:00', freq='D'),\n",
       " Timestamp('2022-04-14 00:00:00', freq='D'),\n",
       " Timestamp('2022-04-15 00:00:00', freq='D'),\n",
       " Timestamp('2022-04-16 00:00:00', freq='D')]"
      ]
     },
     "execution_count": 43,
     "metadata": {},
     "output_type": "execute_result"
    }
   ],
   "source": [
    "l = list(date15)\n",
    "l"
   ]
  },
  {
   "cell_type": "code",
   "execution_count": 44,
   "id": "994fb5a2",
   "metadata": {},
   "outputs": [
    {
     "data": {
      "text/plain": [
       "140"
      ]
     },
     "execution_count": 44,
     "metadata": {},
     "output_type": "execute_result"
    }
   ],
   "source": [
    "s= test_ind+ l\n",
    "len(s)"
   ]
  },
  {
   "cell_type": "code",
   "execution_count": 45,
   "id": "a4a549ea",
   "metadata": {},
   "outputs": [
    {
     "data": {
      "text/plain": [
       "[Timestamp('2021-10-01 00:00:00'),\n",
       " Timestamp('2021-10-04 00:00:00'),\n",
       " Timestamp('2021-10-05 00:00:00'),\n",
       " Timestamp('2021-10-06 00:00:00'),\n",
       " Timestamp('2021-10-07 00:00:00'),\n",
       " Timestamp('2021-10-08 00:00:00'),\n",
       " Timestamp('2021-10-11 00:00:00'),\n",
       " Timestamp('2021-10-12 00:00:00'),\n",
       " Timestamp('2021-10-13 00:00:00'),\n",
       " Timestamp('2021-10-14 00:00:00'),\n",
       " Timestamp('2021-10-18 00:00:00'),\n",
       " Timestamp('2021-10-19 00:00:00'),\n",
       " Timestamp('2021-10-20 00:00:00'),\n",
       " Timestamp('2021-10-21 00:00:00'),\n",
       " Timestamp('2021-10-22 00:00:00'),\n",
       " Timestamp('2021-10-25 00:00:00'),\n",
       " Timestamp('2021-10-26 00:00:00'),\n",
       " Timestamp('2021-10-27 00:00:00'),\n",
       " Timestamp('2021-10-28 00:00:00'),\n",
       " Timestamp('2021-10-29 00:00:00'),\n",
       " Timestamp('2021-11-01 00:00:00'),\n",
       " Timestamp('2021-11-02 00:00:00'),\n",
       " Timestamp('2021-11-03 00:00:00'),\n",
       " Timestamp('2021-11-04 00:00:00'),\n",
       " Timestamp('2021-11-08 00:00:00'),\n",
       " Timestamp('2021-11-09 00:00:00'),\n",
       " Timestamp('2021-11-10 00:00:00'),\n",
       " Timestamp('2021-11-11 00:00:00'),\n",
       " Timestamp('2021-11-12 00:00:00'),\n",
       " Timestamp('2021-11-15 00:00:00'),\n",
       " Timestamp('2021-11-16 00:00:00'),\n",
       " Timestamp('2021-11-17 00:00:00'),\n",
       " Timestamp('2021-11-18 00:00:00'),\n",
       " Timestamp('2021-11-22 00:00:00'),\n",
       " Timestamp('2021-11-23 00:00:00'),\n",
       " Timestamp('2021-11-24 00:00:00'),\n",
       " Timestamp('2021-11-25 00:00:00'),\n",
       " Timestamp('2021-11-26 00:00:00'),\n",
       " Timestamp('2021-11-29 00:00:00'),\n",
       " Timestamp('2021-11-30 00:00:00'),\n",
       " Timestamp('2021-12-01 00:00:00'),\n",
       " Timestamp('2021-12-02 00:00:00'),\n",
       " Timestamp('2021-12-03 00:00:00'),\n",
       " Timestamp('2021-12-06 00:00:00'),\n",
       " Timestamp('2021-12-07 00:00:00'),\n",
       " Timestamp('2021-12-08 00:00:00'),\n",
       " Timestamp('2021-12-09 00:00:00'),\n",
       " Timestamp('2021-12-10 00:00:00'),\n",
       " Timestamp('2021-12-13 00:00:00'),\n",
       " Timestamp('2021-12-14 00:00:00'),\n",
       " Timestamp('2021-12-15 00:00:00'),\n",
       " Timestamp('2021-12-16 00:00:00'),\n",
       " Timestamp('2021-12-17 00:00:00'),\n",
       " Timestamp('2021-12-20 00:00:00'),\n",
       " Timestamp('2021-12-21 00:00:00'),\n",
       " Timestamp('2021-12-22 00:00:00'),\n",
       " Timestamp('2021-12-23 00:00:00'),\n",
       " Timestamp('2021-12-24 00:00:00'),\n",
       " Timestamp('2021-12-27 00:00:00'),\n",
       " Timestamp('2021-12-28 00:00:00'),\n",
       " Timestamp('2021-12-29 00:00:00'),\n",
       " Timestamp('2021-12-30 00:00:00'),\n",
       " Timestamp('2021-12-31 00:00:00'),\n",
       " Timestamp('2022-01-03 00:00:00'),\n",
       " Timestamp('2022-01-04 00:00:00'),\n",
       " Timestamp('2022-01-05 00:00:00'),\n",
       " Timestamp('2022-01-06 00:00:00'),\n",
       " Timestamp('2022-01-07 00:00:00'),\n",
       " Timestamp('2022-01-10 00:00:00'),\n",
       " Timestamp('2022-01-11 00:00:00'),\n",
       " Timestamp('2022-01-12 00:00:00'),\n",
       " Timestamp('2022-01-13 00:00:00'),\n",
       " Timestamp('2022-01-14 00:00:00'),\n",
       " Timestamp('2022-01-17 00:00:00'),\n",
       " Timestamp('2022-01-18 00:00:00'),\n",
       " Timestamp('2022-01-19 00:00:00'),\n",
       " Timestamp('2022-01-20 00:00:00'),\n",
       " Timestamp('2022-01-21 00:00:00'),\n",
       " Timestamp('2022-01-24 00:00:00'),\n",
       " Timestamp('2022-01-25 00:00:00'),\n",
       " Timestamp('2022-01-27 00:00:00'),\n",
       " Timestamp('2022-01-28 00:00:00'),\n",
       " Timestamp('2022-01-31 00:00:00'),\n",
       " Timestamp('2022-02-01 00:00:00'),\n",
       " Timestamp('2022-02-02 00:00:00'),\n",
       " Timestamp('2022-02-03 00:00:00'),\n",
       " Timestamp('2022-02-04 00:00:00'),\n",
       " Timestamp('2022-02-07 00:00:00'),\n",
       " Timestamp('2022-02-08 00:00:00'),\n",
       " Timestamp('2022-02-09 00:00:00'),\n",
       " Timestamp('2022-02-10 00:00:00'),\n",
       " Timestamp('2022-02-11 00:00:00'),\n",
       " Timestamp('2022-02-14 00:00:00'),\n",
       " Timestamp('2022-02-15 00:00:00'),\n",
       " Timestamp('2022-02-16 00:00:00'),\n",
       " Timestamp('2022-02-17 00:00:00'),\n",
       " Timestamp('2022-02-18 00:00:00'),\n",
       " Timestamp('2022-02-21 00:00:00'),\n",
       " Timestamp('2022-02-22 00:00:00'),\n",
       " Timestamp('2022-02-23 00:00:00'),\n",
       " Timestamp('2022-02-24 00:00:00'),\n",
       " Timestamp('2022-02-25 00:00:00'),\n",
       " Timestamp('2022-02-28 00:00:00'),\n",
       " Timestamp('2022-03-02 00:00:00'),\n",
       " Timestamp('2022-03-03 00:00:00'),\n",
       " Timestamp('2022-03-04 00:00:00'),\n",
       " Timestamp('2022-03-07 00:00:00'),\n",
       " Timestamp('2022-03-08 00:00:00'),\n",
       " Timestamp('2022-03-09 00:00:00'),\n",
       " Timestamp('2022-03-10 00:00:00'),\n",
       " Timestamp('2022-03-11 00:00:00'),\n",
       " Timestamp('2022-03-14 00:00:00'),\n",
       " Timestamp('2022-03-15 00:00:00'),\n",
       " Timestamp('2022-03-16 00:00:00'),\n",
       " Timestamp('2022-03-17 00:00:00'),\n",
       " Timestamp('2022-03-21 00:00:00'),\n",
       " Timestamp('2022-03-22 00:00:00'),\n",
       " Timestamp('2022-03-23 00:00:00'),\n",
       " Timestamp('2022-03-24 00:00:00'),\n",
       " Timestamp('2022-03-25 00:00:00'),\n",
       " Timestamp('2022-03-28 00:00:00'),\n",
       " Timestamp('2022-03-29 00:00:00'),\n",
       " Timestamp('2022-03-30 00:00:00'),\n",
       " Timestamp('2022-03-31 00:00:00'),\n",
       " Timestamp('2022-04-01 00:00:00'),\n",
       " Timestamp('2022-04-02 00:00:00', freq='D'),\n",
       " Timestamp('2022-04-03 00:00:00', freq='D'),\n",
       " Timestamp('2022-04-04 00:00:00', freq='D'),\n",
       " Timestamp('2022-04-05 00:00:00', freq='D'),\n",
       " Timestamp('2022-04-06 00:00:00', freq='D'),\n",
       " Timestamp('2022-04-07 00:00:00', freq='D'),\n",
       " Timestamp('2022-04-08 00:00:00', freq='D'),\n",
       " Timestamp('2022-04-09 00:00:00', freq='D'),\n",
       " Timestamp('2022-04-10 00:00:00', freq='D'),\n",
       " Timestamp('2022-04-11 00:00:00', freq='D'),\n",
       " Timestamp('2022-04-12 00:00:00', freq='D'),\n",
       " Timestamp('2022-04-13 00:00:00', freq='D'),\n",
       " Timestamp('2022-04-14 00:00:00', freq='D'),\n",
       " Timestamp('2022-04-15 00:00:00', freq='D'),\n",
       " Timestamp('2022-04-16 00:00:00', freq='D')]"
      ]
     },
     "execution_count": 45,
     "metadata": {},
     "output_type": "execute_result"
    }
   ],
   "source": [
    "s"
   ]
  },
  {
   "cell_type": "code",
   "execution_count": 47,
   "id": "311e9681",
   "metadata": {
    "scrolled": true
   },
   "outputs": [
    {
     "data": {
      "text/html": [
       "<div>\n",
       "<style scoped>\n",
       "    .dataframe tbody tr th:only-of-type {\n",
       "        vertical-align: middle;\n",
       "    }\n",
       "\n",
       "    .dataframe tbody tr th {\n",
       "        vertical-align: top;\n",
       "    }\n",
       "\n",
       "    .dataframe thead th {\n",
       "        text-align: right;\n",
       "    }\n",
       "</style>\n",
       "<table border=\"1\" class=\"dataframe\">\n",
       "  <thead>\n",
       "    <tr style=\"text-align: right;\">\n",
       "      <th></th>\n",
       "      <th>0</th>\n",
       "    </tr>\n",
       "  </thead>\n",
       "  <tbody>\n",
       "    <tr>\n",
       "      <th>2021-10-01</th>\n",
       "      <td>3247.097229</td>\n",
       "    </tr>\n",
       "    <tr>\n",
       "      <th>2021-10-04</th>\n",
       "      <td>3247.097229</td>\n",
       "    </tr>\n",
       "    <tr>\n",
       "      <th>2021-10-05</th>\n",
       "      <td>3247.097229</td>\n",
       "    </tr>\n",
       "    <tr>\n",
       "      <th>2021-10-06</th>\n",
       "      <td>3247.097229</td>\n",
       "    </tr>\n",
       "    <tr>\n",
       "      <th>2021-10-07</th>\n",
       "      <td>3247.097229</td>\n",
       "    </tr>\n",
       "    <tr>\n",
       "      <th>...</th>\n",
       "      <td>...</td>\n",
       "    </tr>\n",
       "    <tr>\n",
       "      <th>2022-04-12</th>\n",
       "      <td>3247.097229</td>\n",
       "    </tr>\n",
       "    <tr>\n",
       "      <th>2022-04-13</th>\n",
       "      <td>3247.097229</td>\n",
       "    </tr>\n",
       "    <tr>\n",
       "      <th>2022-04-14</th>\n",
       "      <td>3247.097229</td>\n",
       "    </tr>\n",
       "    <tr>\n",
       "      <th>2022-04-15</th>\n",
       "      <td>3247.097229</td>\n",
       "    </tr>\n",
       "    <tr>\n",
       "      <th>2022-04-16</th>\n",
       "      <td>3247.097229</td>\n",
       "    </tr>\n",
       "  </tbody>\n",
       "</table>\n",
       "<p>140 rows × 1 columns</p>\n",
       "</div>"
      ],
      "text/plain": [
       "                      0\n",
       "2021-10-01  3247.097229\n",
       "2021-10-04  3247.097229\n",
       "2021-10-05  3247.097229\n",
       "2021-10-06  3247.097229\n",
       "2021-10-07  3247.097229\n",
       "...                 ...\n",
       "2022-04-12  3247.097229\n",
       "2022-04-13  3247.097229\n",
       "2022-04-14  3247.097229\n",
       "2022-04-15  3247.097229\n",
       "2022-04-16  3247.097229\n",
       "\n",
       "[140 rows x 1 columns]"
      ]
     },
     "execution_count": 47,
     "metadata": {},
     "output_type": "execute_result"
    }
   ],
   "source": [
    "ses_pred_cust15= pd.DataFrame(index= s ,data= ses_predict15.values) # Dataframe with Extra 15 days\n",
    "ses_pred_cust15"
   ]
  },
  {
   "cell_type": "code",
   "execution_count": 49,
   "id": "dffe5cc0",
   "metadata": {},
   "outputs": [
    {
     "data": {
      "text/html": [
       "<div>\n",
       "<style scoped>\n",
       "    .dataframe tbody tr th:only-of-type {\n",
       "        vertical-align: middle;\n",
       "    }\n",
       "\n",
       "    .dataframe tbody tr th {\n",
       "        vertical-align: top;\n",
       "    }\n",
       "\n",
       "    .dataframe thead th {\n",
       "        text-align: right;\n",
       "    }\n",
       "</style>\n",
       "<table border=\"1\" class=\"dataframe\">\n",
       "  <thead>\n",
       "    <tr style=\"text-align: right;\">\n",
       "      <th></th>\n",
       "      <th>0</th>\n",
       "    </tr>\n",
       "  </thead>\n",
       "  <tbody>\n",
       "    <tr>\n",
       "      <th>2021-10-01</th>\n",
       "      <td>3247.097229</td>\n",
       "    </tr>\n",
       "    <tr>\n",
       "      <th>2021-10-04</th>\n",
       "      <td>3247.097229</td>\n",
       "    </tr>\n",
       "    <tr>\n",
       "      <th>2021-10-05</th>\n",
       "      <td>3247.097229</td>\n",
       "    </tr>\n",
       "    <tr>\n",
       "      <th>2021-10-06</th>\n",
       "      <td>3247.097229</td>\n",
       "    </tr>\n",
       "    <tr>\n",
       "      <th>2021-10-07</th>\n",
       "      <td>3247.097229</td>\n",
       "    </tr>\n",
       "    <tr>\n",
       "      <th>...</th>\n",
       "      <td>...</td>\n",
       "    </tr>\n",
       "    <tr>\n",
       "      <th>2022-03-28</th>\n",
       "      <td>3247.097229</td>\n",
       "    </tr>\n",
       "    <tr>\n",
       "      <th>2022-03-29</th>\n",
       "      <td>3247.097229</td>\n",
       "    </tr>\n",
       "    <tr>\n",
       "      <th>2022-03-30</th>\n",
       "      <td>3247.097229</td>\n",
       "    </tr>\n",
       "    <tr>\n",
       "      <th>2022-03-31</th>\n",
       "      <td>3247.097229</td>\n",
       "    </tr>\n",
       "    <tr>\n",
       "      <th>2022-04-01</th>\n",
       "      <td>3247.097229</td>\n",
       "    </tr>\n",
       "  </tbody>\n",
       "</table>\n",
       "<p>125 rows × 1 columns</p>\n",
       "</div>"
      ],
      "text/plain": [
       "                      0\n",
       "2021-10-01  3247.097229\n",
       "2021-10-04  3247.097229\n",
       "2021-10-05  3247.097229\n",
       "2021-10-06  3247.097229\n",
       "2021-10-07  3247.097229\n",
       "...                 ...\n",
       "2022-03-28  3247.097229\n",
       "2022-03-29  3247.097229\n",
       "2022-03-30  3247.097229\n",
       "2022-03-31  3247.097229\n",
       "2022-04-01  3247.097229\n",
       "\n",
       "[125 rows x 1 columns]"
      ]
     },
     "execution_count": 49,
     "metadata": {},
     "output_type": "execute_result"
    }
   ],
   "source": [
    "ses_pred_cust= pd.DataFrame(index= test_ind ,data= ses_predict.values) # Forecast length= Test length\n",
    "ses_pred_cust"
   ]
  },
  {
   "cell_type": "code",
   "execution_count": 183,
   "id": "11e446e1",
   "metadata": {},
   "outputs": [
    {
     "data": {
      "image/png": "[encoded data removed]",
      "text/plain": [
       "<Figure size 576x396 with 1 Axes>"
      ]
     },
     "metadata": {},
     "output_type": "display_data"
    }
   ],
   "source": [
    "## Plotting the Training data, Test data and the forecasted values\n",
    "plt.style.use('seaborn')\n",
    "plt.plot(train, label='Train')\n",
    "plt.plot(test, label='Test')\n",
    "\n",
    "plt.plot(ses_pred_cust, label='Alpha =0.99 Simple Exponential Smoothing predictions on Test Set')\n",
    "\n",
    "plt.legend(loc='best')\n",
    "plt.grid()\n",
    "plt.title('Alpha = 0.99 Predictions');"
   ]
  },
  {
   "cell_type": "code",
   "execution_count": 51,
   "id": "7bc2d176",
   "metadata": {
    "scrolled": false
   },
   "outputs": [
    {
     "data": {
      "text/html": [
       "<div>\n",
       "<style scoped>\n",
       "    .dataframe tbody tr th:only-of-type {\n",
       "        vertical-align: middle;\n",
       "    }\n",
       "\n",
       "    .dataframe tbody tr th {\n",
       "        vertical-align: top;\n",
       "    }\n",
       "\n",
       "    .dataframe thead th {\n",
       "        text-align: right;\n",
       "    }\n",
       "</style>\n",
       "<table border=\"1\" class=\"dataframe\">\n",
       "  <thead>\n",
       "    <tr style=\"text-align: right;\">\n",
       "      <th></th>\n",
       "      <th>0</th>\n",
       "    </tr>\n",
       "  </thead>\n",
       "  <tbody>\n",
       "    <tr>\n",
       "      <th>2022-04-02</th>\n",
       "      <td>3247.097229</td>\n",
       "    </tr>\n",
       "    <tr>\n",
       "      <th>2022-04-03</th>\n",
       "      <td>3247.097229</td>\n",
       "    </tr>\n",
       "    <tr>\n",
       "      <th>2022-04-04</th>\n",
       "      <td>3247.097229</td>\n",
       "    </tr>\n",
       "    <tr>\n",
       "      <th>2022-04-05</th>\n",
       "      <td>3247.097229</td>\n",
       "    </tr>\n",
       "    <tr>\n",
       "      <th>2022-04-06</th>\n",
       "      <td>3247.097229</td>\n",
       "    </tr>\n",
       "    <tr>\n",
       "      <th>2022-04-07</th>\n",
       "      <td>3247.097229</td>\n",
       "    </tr>\n",
       "    <tr>\n",
       "      <th>2022-04-08</th>\n",
       "      <td>3247.097229</td>\n",
       "    </tr>\n",
       "    <tr>\n",
       "      <th>2022-04-09</th>\n",
       "      <td>3247.097229</td>\n",
       "    </tr>\n",
       "    <tr>\n",
       "      <th>2022-04-10</th>\n",
       "      <td>3247.097229</td>\n",
       "    </tr>\n",
       "    <tr>\n",
       "      <th>2022-04-11</th>\n",
       "      <td>3247.097229</td>\n",
       "    </tr>\n",
       "    <tr>\n",
       "      <th>2022-04-12</th>\n",
       "      <td>3247.097229</td>\n",
       "    </tr>\n",
       "    <tr>\n",
       "      <th>2022-04-13</th>\n",
       "      <td>3247.097229</td>\n",
       "    </tr>\n",
       "    <tr>\n",
       "      <th>2022-04-14</th>\n",
       "      <td>3247.097229</td>\n",
       "    </tr>\n",
       "    <tr>\n",
       "      <th>2022-04-15</th>\n",
       "      <td>3247.097229</td>\n",
       "    </tr>\n",
       "    <tr>\n",
       "      <th>2022-04-16</th>\n",
       "      <td>3247.097229</td>\n",
       "    </tr>\n",
       "  </tbody>\n",
       "</table>\n",
       "</div>"
      ],
      "text/plain": [
       "                      0\n",
       "2022-04-02  3247.097229\n",
       "2022-04-03  3247.097229\n",
       "2022-04-04  3247.097229\n",
       "2022-04-05  3247.097229\n",
       "2022-04-06  3247.097229\n",
       "2022-04-07  3247.097229\n",
       "2022-04-08  3247.097229\n",
       "2022-04-09  3247.097229\n",
       "2022-04-10  3247.097229\n",
       "2022-04-11  3247.097229\n",
       "2022-04-12  3247.097229\n",
       "2022-04-13  3247.097229\n",
       "2022-04-14  3247.097229\n",
       "2022-04-15  3247.097229\n",
       "2022-04-16  3247.097229"
      ]
     },
     "execution_count": 51,
     "metadata": {},
     "output_type": "execute_result"
    }
   ],
   "source": [
    "ses_pred_cust15.tail(15)"
   ]
  },
  {
   "cell_type": "code",
   "execution_count": 174,
   "id": "c1e400c7",
   "metadata": {},
   "outputs": [],
   "source": [
    "#Next 15 days prediction using SES\n",
    "\n",
    "ses_15= ses_pred_cust15.tail(15)"
   ]
  },
  {
   "cell_type": "code",
   "execution_count": null,
   "id": "b6f410bf",
   "metadata": {},
   "outputs": [],
   "source": []
  },
  {
   "cell_type": "code",
   "execution_count": 55,
   "id": "407ec3b0",
   "metadata": {},
   "outputs": [],
   "source": [
    "## Mean Absolute Percentage Error (MAPE) - Function Definition\n",
    "\n",
    "def MAPE(y_true, y_pred):\n",
    "    return np.mean((np.abs(y_true-y_pred))/(y_true))*100"
   ]
  },
  {
   "cell_type": "code",
   "execution_count": 61,
   "id": "4e03ace3",
   "metadata": {},
   "outputs": [
    {
     "name": "stdout",
     "output_type": "stream",
     "text": [
      "SES MSE : 29154.258963714856\n",
      "SES RMSE : 170.74618286718697\n",
      "SES MAPE : 4.175889339514514\n"
     ]
    }
   ],
   "source": [
    "print('SES MSE :',em.mse(test.values,ses_predict.values)[0])\n",
    "print('SES RMSE :',em.rmse(test.values,ses_predict.values)[0])\n",
    "print('SES MAPE :',MAPE(test.values,ses_predict.values))"
   ]
  },
  {
   "cell_type": "code",
   "execution_count": 62,
   "id": "4feb384e",
   "metadata": {},
   "outputs": [
    {
     "data": {
      "text/html": [
       "<div>\n",
       "<style scoped>\n",
       "    .dataframe tbody tr th:only-of-type {\n",
       "        vertical-align: middle;\n",
       "    }\n",
       "\n",
       "    .dataframe tbody tr th {\n",
       "        vertical-align: top;\n",
       "    }\n",
       "\n",
       "    .dataframe thead th {\n",
       "        text-align: right;\n",
       "    }\n",
       "</style>\n",
       "<table border=\"1\" class=\"dataframe\">\n",
       "  <thead>\n",
       "    <tr style=\"text-align: right;\">\n",
       "      <th></th>\n",
       "      <th>Test RMSE</th>\n",
       "    </tr>\n",
       "  </thead>\n",
       "  <tbody>\n",
       "    <tr>\n",
       "      <th>Alpha=0.99,SES</th>\n",
       "      <td>170.746183</td>\n",
       "    </tr>\n",
       "  </tbody>\n",
       "</table>\n",
       "</div>"
      ],
      "text/plain": [
       "                 Test RMSE\n",
       "Alpha=0.99,SES  170.746183"
      ]
     },
     "execution_count": 62,
     "metadata": {},
     "output_type": "execute_result"
    }
   ],
   "source": [
    "resultsDf = pd.DataFrame({'Test RMSE': [em.rmse(test.values,ses_predict.values)[0]]},index=['Alpha=0.99,SES'])\n",
    "resultsDf"
   ]
  },
  {
   "cell_type": "code",
   "execution_count": null,
   "id": "74fe0d02",
   "metadata": {},
   "outputs": [],
   "source": []
  },
  {
   "cell_type": "markdown",
   "id": "d3f48c2b",
   "metadata": {},
   "source": [
    "## Double Exponential"
   ]
  },
  {
   "cell_type": "code",
   "execution_count": 63,
   "id": "503c34fa",
   "metadata": {},
   "outputs": [
    {
     "name": "stdout",
     "output_type": "stream",
     "text": [
      "\n",
      "==Holt model Exponential Smoothing Estimated Parameters ==\n",
      "\n",
      "{'smoothing_level': 0.9488683716125038, 'smoothing_trend': 0.022698987054326047, 'smoothing_seasonal': nan, 'damping_trend': nan, 'initial_level': 1552.9298514636114, 'initial_trend': 4.774953931134821, 'initial_seasons': array([], dtype=float64), 'use_boxcox': False, 'lamda': None, 'remove_bias': False}\n"
     ]
    }
   ],
   "source": [
    "# Initializing the Double Exponential Smoothing Model\n",
    "model_DES = Holt(train,initialization_method='estimated')\n",
    "# Fitting the model\n",
    "model_DES = model_DES.fit()\n",
    "\n",
    "print('')\n",
    "print('==Holt model Exponential Smoothing Estimated Parameters ==')\n",
    "print('')\n",
    "print(model_DES.params)"
   ]
  },
  {
   "cell_type": "code",
   "execution_count": 64,
   "id": "9a10f43d",
   "metadata": {},
   "outputs": [
    {
     "data": {
      "text/plain": [
       "372    3253.092930\n",
       "373    3257.052831\n",
       "374    3261.012732\n",
       "375    3264.972633\n",
       "376    3268.932534\n",
       "          ...     \n",
       "492    3728.281059\n",
       "493    3732.240960\n",
       "494    3736.200861\n",
       "495    3740.160762\n",
       "496    3744.120663\n",
       "Length: 125, dtype: float64"
      ]
     },
     "execution_count": 64,
     "metadata": {},
     "output_type": "execute_result"
    }
   ],
   "source": [
    "# Forecasting using this model for the duration of the test set\n",
    "DES_predict =  model_DES.forecast(len(test))\n",
    "DES_predict"
   ]
  },
  {
   "cell_type": "code",
   "execution_count": 65,
   "id": "4f8a74c7",
   "metadata": {},
   "outputs": [
    {
     "data": {
      "text/html": [
       "<div>\n",
       "<style scoped>\n",
       "    .dataframe tbody tr th:only-of-type {\n",
       "        vertical-align: middle;\n",
       "    }\n",
       "\n",
       "    .dataframe tbody tr th {\n",
       "        vertical-align: top;\n",
       "    }\n",
       "\n",
       "    .dataframe thead th {\n",
       "        text-align: right;\n",
       "    }\n",
       "</style>\n",
       "<table border=\"1\" class=\"dataframe\">\n",
       "  <thead>\n",
       "    <tr style=\"text-align: right;\">\n",
       "      <th></th>\n",
       "      <th>0</th>\n",
       "    </tr>\n",
       "  </thead>\n",
       "  <tbody>\n",
       "    <tr>\n",
       "      <th>2021-10-01</th>\n",
       "      <td>3253.092930</td>\n",
       "    </tr>\n",
       "    <tr>\n",
       "      <th>2021-10-04</th>\n",
       "      <td>3257.052831</td>\n",
       "    </tr>\n",
       "    <tr>\n",
       "      <th>2021-10-05</th>\n",
       "      <td>3261.012732</td>\n",
       "    </tr>\n",
       "    <tr>\n",
       "      <th>2021-10-06</th>\n",
       "      <td>3264.972633</td>\n",
       "    </tr>\n",
       "    <tr>\n",
       "      <th>2021-10-07</th>\n",
       "      <td>3268.932534</td>\n",
       "    </tr>\n",
       "    <tr>\n",
       "      <th>...</th>\n",
       "      <td>...</td>\n",
       "    </tr>\n",
       "    <tr>\n",
       "      <th>2022-03-28</th>\n",
       "      <td>3728.281059</td>\n",
       "    </tr>\n",
       "    <tr>\n",
       "      <th>2022-03-29</th>\n",
       "      <td>3732.240960</td>\n",
       "    </tr>\n",
       "    <tr>\n",
       "      <th>2022-03-30</th>\n",
       "      <td>3736.200861</td>\n",
       "    </tr>\n",
       "    <tr>\n",
       "      <th>2022-03-31</th>\n",
       "      <td>3740.160762</td>\n",
       "    </tr>\n",
       "    <tr>\n",
       "      <th>2022-04-01</th>\n",
       "      <td>3744.120663</td>\n",
       "    </tr>\n",
       "  </tbody>\n",
       "</table>\n",
       "<p>125 rows × 1 columns</p>\n",
       "</div>"
      ],
      "text/plain": [
       "                      0\n",
       "2021-10-01  3253.092930\n",
       "2021-10-04  3257.052831\n",
       "2021-10-05  3261.012732\n",
       "2021-10-06  3264.972633\n",
       "2021-10-07  3268.932534\n",
       "...                 ...\n",
       "2022-03-28  3728.281059\n",
       "2022-03-29  3732.240960\n",
       "2022-03-30  3736.200861\n",
       "2022-03-31  3740.160762\n",
       "2022-04-01  3744.120663\n",
       "\n",
       "[125 rows x 1 columns]"
      ]
     },
     "execution_count": 65,
     "metadata": {},
     "output_type": "execute_result"
    }
   ],
   "source": [
    "DES_pred_cust= pd.DataFrame(index= test_ind ,data= DES_predict.values) # Forecast length= Test length\n",
    "DES_pred_cust"
   ]
  },
  {
   "cell_type": "code",
   "execution_count": 181,
   "id": "399cb7d6",
   "metadata": {},
   "outputs": [
    {
     "data": {
      "image/png": "[encoded data removed]",
      "text/plain": [
       "<Figure size 1080x576 with 1 Axes>"
      ]
     },
     "metadata": {},
     "output_type": "display_data"
    }
   ],
   "source": [
    "## Plotting the Training data, Test data and the forecasted values\n",
    "\n",
    "plt.plot(train, label='Train')\n",
    "plt.plot(test, label='Test')\n",
    "\n",
    "plt.plot(ses_pred_cust, label='Alpha=0.99:Simple Exponential Smoothing predictions on Test Set')\n",
    "plt.plot(DES_pred_cust, label='Alpha=0.099,Beta=0.0001:Double Exponential Smoothing predictions on Test Set')\n",
    "\n",
    "plt.legend(loc='best')\n",
    "plt.grid()\n",
    "plt.title('Simple and Double Exponential Smoothing Predictions');"
   ]
  },
  {
   "cell_type": "code",
   "execution_count": 68,
   "id": "8d9f79a4",
   "metadata": {},
   "outputs": [
    {
     "name": "stdout",
     "output_type": "stream",
     "text": [
      "DES MSE : 29944.145489543356\n",
      "DES RMSE : 173.04376755475292\n",
      "DES MAPE : 10.505365214018788\n"
     ]
    }
   ],
   "source": [
    "print('DES MSE :',em.mse(test.values,DES_predict.values)[0])\n",
    "print('DES RMSE :',em.rmse(test.values,DES_predict.values)[0])\n",
    "print('DES MAPE :',MAPE(test.values,DES_predict.values))"
   ]
  },
  {
   "cell_type": "code",
   "execution_count": 168,
   "id": "8b4e90d4",
   "metadata": {},
   "outputs": [
    {
     "data": {
      "text/html": [
       "<div>\n",
       "<style scoped>\n",
       "    .dataframe tbody tr th:only-of-type {\n",
       "        vertical-align: middle;\n",
       "    }\n",
       "\n",
       "    .dataframe tbody tr th {\n",
       "        vertical-align: top;\n",
       "    }\n",
       "\n",
       "    .dataframe thead th {\n",
       "        text-align: right;\n",
       "    }\n",
       "</style>\n",
       "<table border=\"1\" class=\"dataframe\">\n",
       "  <thead>\n",
       "    <tr style=\"text-align: right;\">\n",
       "      <th></th>\n",
       "      <th>Test RMSE</th>\n",
       "    </tr>\n",
       "  </thead>\n",
       "  <tbody>\n",
       "    <tr>\n",
       "      <th>Alpha=0.99,SES</th>\n",
       "      <td>170.746183</td>\n",
       "    </tr>\n",
       "    <tr>\n",
       "      <th>Alpha=1,Beta=0.0001:DES</th>\n",
       "      <td>173.043768</td>\n",
       "    </tr>\n",
       "  </tbody>\n",
       "</table>\n",
       "</div>"
      ],
      "text/plain": [
       "                          Test RMSE\n",
       "Alpha=0.99,SES           170.746183\n",
       "Alpha=1,Beta=0.0001:DES  173.043768"
      ]
     },
     "execution_count": 168,
     "metadata": {},
     "output_type": "execute_result"
    }
   ],
   "source": [
    "resultsDf_temp = pd.DataFrame({'Test RMSE': em.rmse(test.values,DES_predict.values)[0]}\n",
    "                           ,index=['Alpha=1,Beta=0.0001:DES'])\n",
    "\n",
    "resultsDf = pd.concat([resultsDf, resultsDf_temp])\n",
    "resultsDf"
   ]
  },
  {
   "cell_type": "code",
   "execution_count": null,
   "id": "835fa64d",
   "metadata": {},
   "outputs": [],
   "source": []
  },
  {
   "cell_type": "code",
   "execution_count": null,
   "id": "15159a5e",
   "metadata": {},
   "outputs": [],
   "source": []
  },
  {
   "cell_type": "code",
   "execution_count": null,
   "id": "1344f9c1",
   "metadata": {},
   "outputs": [],
   "source": [
    "# Next 15 days prediction (DES)"
   ]
  },
  {
   "cell_type": "code",
   "execution_count": 170,
   "id": "8eba2d97",
   "metadata": {},
   "outputs": [
    {
     "data": {
      "text/plain": [
       "372    3253.092930\n",
       "373    3257.052831\n",
       "374    3261.012732\n",
       "375    3264.972633\n",
       "376    3268.932534\n",
       "          ...     \n",
       "507    3787.679575\n",
       "508    3791.639476\n",
       "509    3795.599377\n",
       "510    3799.559278\n",
       "511    3803.519179\n",
       "Length: 140, dtype: float64"
      ]
     },
     "execution_count": 170,
     "metadata": {},
     "output_type": "execute_result"
    }
   ],
   "source": [
    "DES_predict15 = model_DES.forecast(len(test)+15) # Predict extra next 15 days\n",
    "DES_predict15"
   ]
  },
  {
   "cell_type": "code",
   "execution_count": 171,
   "id": "b3d6cac2",
   "metadata": {
    "scrolled": true
   },
   "outputs": [
    {
     "data": {
      "text/html": [
       "<div>\n",
       "<style scoped>\n",
       "    .dataframe tbody tr th:only-of-type {\n",
       "        vertical-align: middle;\n",
       "    }\n",
       "\n",
       "    .dataframe tbody tr th {\n",
       "        vertical-align: top;\n",
       "    }\n",
       "\n",
       "    .dataframe thead th {\n",
       "        text-align: right;\n",
       "    }\n",
       "</style>\n",
       "<table border=\"1\" class=\"dataframe\">\n",
       "  <thead>\n",
       "    <tr style=\"text-align: right;\">\n",
       "      <th></th>\n",
       "      <th>0</th>\n",
       "    </tr>\n",
       "  </thead>\n",
       "  <tbody>\n",
       "    <tr>\n",
       "      <th>2021-10-01</th>\n",
       "      <td>3253.092930</td>\n",
       "    </tr>\n",
       "    <tr>\n",
       "      <th>2021-10-04</th>\n",
       "      <td>3257.052831</td>\n",
       "    </tr>\n",
       "    <tr>\n",
       "      <th>2021-10-05</th>\n",
       "      <td>3261.012732</td>\n",
       "    </tr>\n",
       "    <tr>\n",
       "      <th>2021-10-06</th>\n",
       "      <td>3264.972633</td>\n",
       "    </tr>\n",
       "    <tr>\n",
       "      <th>2021-10-07</th>\n",
       "      <td>3268.932534</td>\n",
       "    </tr>\n",
       "    <tr>\n",
       "      <th>...</th>\n",
       "      <td>...</td>\n",
       "    </tr>\n",
       "    <tr>\n",
       "      <th>2022-04-12</th>\n",
       "      <td>3787.679575</td>\n",
       "    </tr>\n",
       "    <tr>\n",
       "      <th>2022-04-13</th>\n",
       "      <td>3791.639476</td>\n",
       "    </tr>\n",
       "    <tr>\n",
       "      <th>2022-04-14</th>\n",
       "      <td>3795.599377</td>\n",
       "    </tr>\n",
       "    <tr>\n",
       "      <th>2022-04-15</th>\n",
       "      <td>3799.559278</td>\n",
       "    </tr>\n",
       "    <tr>\n",
       "      <th>2022-04-16</th>\n",
       "      <td>3803.519179</td>\n",
       "    </tr>\n",
       "  </tbody>\n",
       "</table>\n",
       "<p>140 rows × 1 columns</p>\n",
       "</div>"
      ],
      "text/plain": [
       "                      0\n",
       "2021-10-01  3253.092930\n",
       "2021-10-04  3257.052831\n",
       "2021-10-05  3261.012732\n",
       "2021-10-06  3264.972633\n",
       "2021-10-07  3268.932534\n",
       "...                 ...\n",
       "2022-04-12  3787.679575\n",
       "2022-04-13  3791.639476\n",
       "2022-04-14  3795.599377\n",
       "2022-04-15  3799.559278\n",
       "2022-04-16  3803.519179\n",
       "\n",
       "[140 rows x 1 columns]"
      ]
     },
     "execution_count": 171,
     "metadata": {},
     "output_type": "execute_result"
    }
   ],
   "source": [
    "DES_pred_cust15= pd.DataFrame(index= s ,data= DES_predict15.values) # Dataframe with Extra 15 days\n",
    "DES_pred_cust15"
   ]
  },
  {
   "cell_type": "code",
   "execution_count": 175,
   "id": "f520c54a",
   "metadata": {},
   "outputs": [],
   "source": [
    "DES_15= DES_pred_cust15.tail(15)"
   ]
  },
  {
   "cell_type": "code",
   "execution_count": null,
   "id": "701b5aaa",
   "metadata": {},
   "outputs": [],
   "source": []
  },
  {
   "cell_type": "code",
   "execution_count": null,
   "id": "33d3dd41",
   "metadata": {},
   "outputs": [],
   "source": []
  },
  {
   "cell_type": "code",
   "execution_count": null,
   "id": "286084ae",
   "metadata": {},
   "outputs": [],
   "source": []
  },
  {
   "cell_type": "markdown",
   "id": "28a1c8f7",
   "metadata": {},
   "source": [
    "## Triple Exponential (Holt-Winters)"
   ]
  },
  {
   "cell_type": "code",
   "execution_count": 155,
   "id": "7b072a21",
   "metadata": {
    "scrolled": true
   },
   "outputs": [
    {
     "name": "stdout",
     "output_type": "stream",
     "text": [
      "\n",
      "==Holt Winters model Exponential Smoothing Estimated Parameters ==\n",
      "\n",
      "{'smoothing_level': 0.9302465770034603, 'smoothing_trend': 0.03990840561954146, 'smoothing_seasonal': 0.000314728789964276, 'damping_trend': nan, 'initial_level': 1583.2240511594496, 'initial_trend': 3.5996485926353303, 'initial_seasons': array([-5.91408819, -2.86125875]), 'use_boxcox': False, 'lamda': None, 'remove_bias': False}\n"
     ]
    }
   ],
   "source": [
    "# Initializing the Double Exponential Smoothing Model\n",
    "model_TES = ExponentialSmoothing(train,trend='additive',seasonal='additive',initialization_method='estimated', seasonal_periods=2 )\n",
    "# Fitting the model\n",
    "model_TES = model_TES.fit()\n",
    "\n",
    "print('')\n",
    "print('==Holt Winters model Exponential Smoothing Estimated Parameters ==')\n",
    "print('')\n",
    "print(model_TES.params)"
   ]
  },
  {
   "cell_type": "code",
   "execution_count": 156,
   "id": "b404c0fc",
   "metadata": {},
   "outputs": [
    {
     "data": {
      "text/plain": [
       "372    3250.268789\n",
       "373    3255.649438\n",
       "374    3254.865243\n",
       "375    3260.245892\n",
       "376    3259.461697\n",
       "          ...     \n",
       "492    3526.056022\n",
       "493    3531.436670\n",
       "494    3530.652476\n",
       "495    3536.033124\n",
       "496    3535.248929\n",
       "Length: 125, dtype: float64"
      ]
     },
     "execution_count": 156,
     "metadata": {},
     "output_type": "execute_result"
    }
   ],
   "source": [
    "# Forecasting using this model for the duration of the test set\n",
    "TES_predict =  model_TES.forecast(len(test))\n",
    "TES_predict"
   ]
  },
  {
   "cell_type": "code",
   "execution_count": 157,
   "id": "175e663c",
   "metadata": {},
   "outputs": [
    {
     "data": {
      "text/html": [
       "<div>\n",
       "<style scoped>\n",
       "    .dataframe tbody tr th:only-of-type {\n",
       "        vertical-align: middle;\n",
       "    }\n",
       "\n",
       "    .dataframe tbody tr th {\n",
       "        vertical-align: top;\n",
       "    }\n",
       "\n",
       "    .dataframe thead th {\n",
       "        text-align: right;\n",
       "    }\n",
       "</style>\n",
       "<table border=\"1\" class=\"dataframe\">\n",
       "  <thead>\n",
       "    <tr style=\"text-align: right;\">\n",
       "      <th></th>\n",
       "      <th>0</th>\n",
       "    </tr>\n",
       "  </thead>\n",
       "  <tbody>\n",
       "    <tr>\n",
       "      <th>2021-10-01</th>\n",
       "      <td>3250.268789</td>\n",
       "    </tr>\n",
       "    <tr>\n",
       "      <th>2021-10-04</th>\n",
       "      <td>3255.649438</td>\n",
       "    </tr>\n",
       "    <tr>\n",
       "      <th>2021-10-05</th>\n",
       "      <td>3254.865243</td>\n",
       "    </tr>\n",
       "    <tr>\n",
       "      <th>2021-10-06</th>\n",
       "      <td>3260.245892</td>\n",
       "    </tr>\n",
       "    <tr>\n",
       "      <th>2021-10-07</th>\n",
       "      <td>3259.461697</td>\n",
       "    </tr>\n",
       "    <tr>\n",
       "      <th>...</th>\n",
       "      <td>...</td>\n",
       "    </tr>\n",
       "    <tr>\n",
       "      <th>2022-03-28</th>\n",
       "      <td>3526.056022</td>\n",
       "    </tr>\n",
       "    <tr>\n",
       "      <th>2022-03-29</th>\n",
       "      <td>3531.436670</td>\n",
       "    </tr>\n",
       "    <tr>\n",
       "      <th>2022-03-30</th>\n",
       "      <td>3530.652476</td>\n",
       "    </tr>\n",
       "    <tr>\n",
       "      <th>2022-03-31</th>\n",
       "      <td>3536.033124</td>\n",
       "    </tr>\n",
       "    <tr>\n",
       "      <th>2022-04-01</th>\n",
       "      <td>3535.248929</td>\n",
       "    </tr>\n",
       "  </tbody>\n",
       "</table>\n",
       "<p>125 rows × 1 columns</p>\n",
       "</div>"
      ],
      "text/plain": [
       "                      0\n",
       "2021-10-01  3250.268789\n",
       "2021-10-04  3255.649438\n",
       "2021-10-05  3254.865243\n",
       "2021-10-06  3260.245892\n",
       "2021-10-07  3259.461697\n",
       "...                 ...\n",
       "2022-03-28  3526.056022\n",
       "2022-03-29  3531.436670\n",
       "2022-03-30  3530.652476\n",
       "2022-03-31  3536.033124\n",
       "2022-04-01  3535.248929\n",
       "\n",
       "[125 rows x 1 columns]"
      ]
     },
     "execution_count": 157,
     "metadata": {},
     "output_type": "execute_result"
    }
   ],
   "source": [
    "TES_pred_cust= pd.DataFrame(index= test_ind ,data= TES_predict.values) # Forecast length= Test length\n",
    "TES_pred_cust"
   ]
  },
  {
   "cell_type": "code",
   "execution_count": 180,
   "id": "58187de7",
   "metadata": {},
   "outputs": [
    {
     "data": {
      "image/png": "[encoded data removed]",
      "text/plain": [
       "<Figure size 1080x576 with 1 Axes>"
      ]
     },
     "metadata": {},
     "output_type": "display_data"
    }
   ],
   "source": [
    "## Plotting the Training data, Test data and the forecasted values\n",
    "\n",
    "plt.plot(train, label='Train')\n",
    "plt.plot(test, label='Test')\n",
    "\n",
    "plt.plot(ses_pred_cust, label='Alpha=1:Simple Exponential Smoothing predictions on Test Set')\n",
    "plt.plot(DES_pred_cust, label='Alpha=0.99,Beta=0.001:Double Exponential Smoothing predictions on Test Set')\n",
    "plt.plot(TES_pred_cust, label='Alpha=0.25,Beta=0.0,Gamma=0.74:Triple Exponential Smoothing predictions on Test Set')\n",
    "\n",
    "plt.legend(loc='best')\n",
    "plt.grid()\n",
    "plt.title('Simple,Double and Triple Exponential Smoothing Predictions');"
   ]
  },
  {
   "cell_type": "code",
   "execution_count": 159,
   "id": "aaefaf58",
   "metadata": {},
   "outputs": [
    {
     "name": "stdout",
     "output_type": "stream",
     "text": [
      "TES MSE : 29563.13016531254\n",
      "TES RMSE : 171.93932117265248\n",
      "TES MAPE : 7.478609917990915\n"
     ]
    }
   ],
   "source": [
    "print('TES MSE :',em.mse(test.values,TES_predict.values)[0])\n",
    "print('TES RMSE :',em.rmse(test.values,TES_predict.values)[0])\n",
    "print('TES MAPE :',MAPE(test.values,TES_predict.values))"
   ]
  },
  {
   "cell_type": "code",
   "execution_count": 169,
   "id": "91e011d4",
   "metadata": {
    "scrolled": true
   },
   "outputs": [
    {
     "data": {
      "text/html": [
       "<div>\n",
       "<style scoped>\n",
       "    .dataframe tbody tr th:only-of-type {\n",
       "        vertical-align: middle;\n",
       "    }\n",
       "\n",
       "    .dataframe tbody tr th {\n",
       "        vertical-align: top;\n",
       "    }\n",
       "\n",
       "    .dataframe thead th {\n",
       "        text-align: right;\n",
       "    }\n",
       "</style>\n",
       "<table border=\"1\" class=\"dataframe\">\n",
       "  <thead>\n",
       "    <tr style=\"text-align: right;\">\n",
       "      <th></th>\n",
       "      <th>Test RMSE</th>\n",
       "    </tr>\n",
       "  </thead>\n",
       "  <tbody>\n",
       "    <tr>\n",
       "      <th>Alpha=0.99,SES</th>\n",
       "      <td>170.746183</td>\n",
       "    </tr>\n",
       "    <tr>\n",
       "      <th>Alpha=1,Beta=0.0001:DES</th>\n",
       "      <td>173.043768</td>\n",
       "    </tr>\n",
       "    <tr>\n",
       "      <th>Alpha=0.25,Beta=0.0001:TES,Gamma=0.74:TES</th>\n",
       "      <td>171.939321</td>\n",
       "    </tr>\n",
       "  </tbody>\n",
       "</table>\n",
       "</div>"
      ],
      "text/plain": [
       "                                            Test RMSE\n",
       "Alpha=0.99,SES                             170.746183\n",
       "Alpha=1,Beta=0.0001:DES                    173.043768\n",
       "Alpha=0.25,Beta=0.0001:TES,Gamma=0.74:TES  171.939321"
      ]
     },
     "execution_count": 169,
     "metadata": {},
     "output_type": "execute_result"
    }
   ],
   "source": [
    "resultsDf_temp = pd.DataFrame({'Test RMSE': em.rmse(test.values,TES_predict.values)[0]}\n",
    "                           ,index=['Alpha=0.25,Beta=0.0001:TES,Gamma=0.74:TES'])\n",
    "\n",
    "resultsDf = pd.concat([resultsDf, resultsDf_temp])\n",
    "resultsDf"
   ]
  },
  {
   "cell_type": "code",
   "execution_count": null,
   "id": "dc5e7382",
   "metadata": {},
   "outputs": [],
   "source": []
  },
  {
   "cell_type": "code",
   "execution_count": null,
   "id": "d2b070a0",
   "metadata": {},
   "outputs": [],
   "source": []
  },
  {
   "cell_type": "code",
   "execution_count": null,
   "id": "ba990522",
   "metadata": {},
   "outputs": [],
   "source": [
    "# Next 15 days prediction (DES)"
   ]
  },
  {
   "cell_type": "code",
   "execution_count": 172,
   "id": "0d683652",
   "metadata": {},
   "outputs": [
    {
     "data": {
      "text/plain": [
       "372    3250.268789\n",
       "373    3255.649438\n",
       "374    3254.865243\n",
       "375    3260.245892\n",
       "376    3259.461697\n",
       "          ...     \n",
       "507    3563.611847\n",
       "508    3562.827653\n",
       "509    3568.208301\n",
       "510    3567.424107\n",
       "511    3572.804755\n",
       "Length: 140, dtype: float64"
      ]
     },
     "execution_count": 172,
     "metadata": {},
     "output_type": "execute_result"
    }
   ],
   "source": [
    "TES_predict15 = model_TES.forecast(len(test)+15) # Predict extra next 15 days\n",
    "TES_predict15"
   ]
  },
  {
   "cell_type": "code",
   "execution_count": 173,
   "id": "8cb07562",
   "metadata": {},
   "outputs": [
    {
     "data": {
      "text/html": [
       "<div>\n",
       "<style scoped>\n",
       "    .dataframe tbody tr th:only-of-type {\n",
       "        vertical-align: middle;\n",
       "    }\n",
       "\n",
       "    .dataframe tbody tr th {\n",
       "        vertical-align: top;\n",
       "    }\n",
       "\n",
       "    .dataframe thead th {\n",
       "        text-align: right;\n",
       "    }\n",
       "</style>\n",
       "<table border=\"1\" class=\"dataframe\">\n",
       "  <thead>\n",
       "    <tr style=\"text-align: right;\">\n",
       "      <th></th>\n",
       "      <th>0</th>\n",
       "    </tr>\n",
       "  </thead>\n",
       "  <tbody>\n",
       "    <tr>\n",
       "      <th>2021-10-01</th>\n",
       "      <td>3250.268789</td>\n",
       "    </tr>\n",
       "    <tr>\n",
       "      <th>2021-10-04</th>\n",
       "      <td>3255.649438</td>\n",
       "    </tr>\n",
       "    <tr>\n",
       "      <th>2021-10-05</th>\n",
       "      <td>3254.865243</td>\n",
       "    </tr>\n",
       "    <tr>\n",
       "      <th>2021-10-06</th>\n",
       "      <td>3260.245892</td>\n",
       "    </tr>\n",
       "    <tr>\n",
       "      <th>2021-10-07</th>\n",
       "      <td>3259.461697</td>\n",
       "    </tr>\n",
       "    <tr>\n",
       "      <th>...</th>\n",
       "      <td>...</td>\n",
       "    </tr>\n",
       "    <tr>\n",
       "      <th>2022-04-12</th>\n",
       "      <td>3563.611847</td>\n",
       "    </tr>\n",
       "    <tr>\n",
       "      <th>2022-04-13</th>\n",
       "      <td>3562.827653</td>\n",
       "    </tr>\n",
       "    <tr>\n",
       "      <th>2022-04-14</th>\n",
       "      <td>3568.208301</td>\n",
       "    </tr>\n",
       "    <tr>\n",
       "      <th>2022-04-15</th>\n",
       "      <td>3567.424107</td>\n",
       "    </tr>\n",
       "    <tr>\n",
       "      <th>2022-04-16</th>\n",
       "      <td>3572.804755</td>\n",
       "    </tr>\n",
       "  </tbody>\n",
       "</table>\n",
       "<p>140 rows × 1 columns</p>\n",
       "</div>"
      ],
      "text/plain": [
       "                      0\n",
       "2021-10-01  3250.268789\n",
       "2021-10-04  3255.649438\n",
       "2021-10-05  3254.865243\n",
       "2021-10-06  3260.245892\n",
       "2021-10-07  3259.461697\n",
       "...                 ...\n",
       "2022-04-12  3563.611847\n",
       "2022-04-13  3562.827653\n",
       "2022-04-14  3568.208301\n",
       "2022-04-15  3567.424107\n",
       "2022-04-16  3572.804755\n",
       "\n",
       "[140 rows x 1 columns]"
      ]
     },
     "execution_count": 173,
     "metadata": {},
     "output_type": "execute_result"
    }
   ],
   "source": [
    "TES_pred_cust15= pd.DataFrame(index= s ,data= TES_predict15.values) # Dataframe with Extra 15 days\n",
    "TES_pred_cust15"
   ]
  },
  {
   "cell_type": "code",
   "execution_count": 176,
   "id": "18ba21bc",
   "metadata": {},
   "outputs": [],
   "source": [
    "TES_15= TES_pred_cust15.tail(15)"
   ]
  },
  {
   "cell_type": "code",
   "execution_count": null,
   "id": "d8d8e6fb",
   "metadata": {},
   "outputs": [],
   "source": []
  },
  {
   "cell_type": "markdown",
   "id": "01614969",
   "metadata": {},
   "source": [
    "## Plotting the forecast for next 15 days using SES,DES,TES"
   ]
  },
  {
   "cell_type": "code",
   "execution_count": 179,
   "id": "12f739db",
   "metadata": {},
   "outputs": [
    {
     "data": {
      "image/png": "[encoded data removed]",
      "text/plain": [
       "<Figure size 1080x576 with 1 Axes>"
      ]
     },
     "metadata": {},
     "output_type": "display_data"
    }
   ],
   "source": [
    "## Plotting the forecast for next 15 days using SES,DES,TES\n",
    "\n",
    "\n",
    "plt.plot(ses_15, label='Prediction for next 15 days using SES')\n",
    "plt.plot(DES_15, label='Prediction for next 15 days using DES')\n",
    "plt.plot(TES_15, label='Prediction for next 15 days using TES')\n",
    "\n",
    "plt.legend(loc='best')\n",
    "plt.grid()\n",
    "plt.title('Forecast for next 15 days using SES,DES,TES');"
   ]
  },
  {
   "cell_type": "code",
   "execution_count": null,
   "id": "5557e005",
   "metadata": {},
   "outputs": [],
   "source": []
  },
  {
   "cell_type": "code",
   "execution_count": null,
   "id": "e944d170",
   "metadata": {},
   "outputs": [],
   "source": []
  },
  {
   "cell_type": "code",
   "execution_count": 188,
   "id": "e3eb0005",
   "metadata": {},
   "outputs": [],
   "source": [
    "from statsmodels.graphics.tsaplots import plot_acf, plot_pacf\n",
    "from statsmodels.tsa.arima_model import ARMA\n",
    "from statsmodels.tsa.arima.model  import ARIMA"
   ]
  },
  {
   "cell_type": "code",
   "execution_count": 191,
   "id": "539adf36",
   "metadata": {
    "scrolled": true
   },
   "outputs": [
    {
     "data": {
      "image/png": "[encoded data removed]",
      "text/plain": [
       "<Figure size 576x396 with 1 Axes>"
      ]
     },
     "metadata": {},
     "output_type": "display_data"
    }
   ],
   "source": [
    "## Auto Correlation Function plot\n",
    "plot_pacf(df, lags=10, ax=plt.gca());"
   ]
  },
  {
   "cell_type": "code",
   "execution_count": null,
   "id": "8ff18ee3",
   "metadata": {},
   "outputs": [],
   "source": []
  },
  {
   "cell_type": "markdown",
   "id": "1ae38994",
   "metadata": {},
   "source": [
    "## Stationary Test (Adfuller)"
   ]
  },
  {
   "cell_type": "code",
   "execution_count": 204,
   "id": "2da876f2",
   "metadata": {},
   "outputs": [],
   "source": [
    "from statsmodels.tsa.stattools import adfuller"
   ]
  },
  {
   "cell_type": "markdown",
   "id": "d199cb65",
   "metadata": {},
   "source": [
    "H0: Data is not stationary\n",
    "\n",
    "H1: Data is stationary"
   ]
  },
  {
   "cell_type": "code",
   "execution_count": 205,
   "id": "f489fe88",
   "metadata": {},
   "outputs": [
    {
     "data": {
      "text/plain": [
       "(-1.5557650810675587,\n",
       " 0.505767213156513,\n",
       " 0,\n",
       " 496,\n",
       " {'1%': -3.4436029548776395,\n",
       "  '5%': -2.867384756137026,\n",
       "  '10%': -2.5698830308597813},\n",
       " 5011.410946750081)"
      ]
     },
     "execution_count": 205,
     "metadata": {},
     "output_type": "execute_result"
    }
   ],
   "source": [
    "statioonary_test = adfuller(df, autolag='AIC')\n",
    "statioonary_test"
   ]
  },
  {
   "cell_type": "markdown",
   "id": "88b851ca",
   "metadata": {},
   "source": [
    "since p value (0.505) is > alpha --> fail to reject H0;\n",
    "\n",
    "Hence we can conclude that the data is not sationary"
   ]
  },
  {
   "cell_type": "code",
   "execution_count": null,
   "id": "c6b0db5c",
   "metadata": {},
   "outputs": [],
   "source": []
  },
  {
   "cell_type": "code",
   "execution_count": null,
   "id": "b6c2a6ef",
   "metadata": {},
   "outputs": [],
   "source": []
  },
  {
   "cell_type": "code",
   "execution_count": null,
   "id": "aea9708c",
   "metadata": {},
   "outputs": [],
   "source": [
    "## AR Model with 1 lag"
   ]
  },
  {
   "cell_type": "code",
   "execution_count": 193,
   "id": "562cc1d6",
   "metadata": {},
   "outputs": [
    {
     "data": {
      "text/html": [
       "<table class=\"simpletable\">\n",
       "<caption>SARIMAX Results</caption>\n",
       "<tr>\n",
       "  <th>Dep. Variable:</th>         <td>close</td>      <th>  No. Observations:  </th>    <td>497</td>   \n",
       "</tr>\n",
       "<tr>\n",
       "  <th>Model:</th>            <td>ARIMA(1, 0, 0)</td>  <th>  Log Likelihood     </th> <td>-2608.381</td>\n",
       "</tr>\n",
       "<tr>\n",
       "  <th>Date:</th>            <td>Wed, 06 Apr 2022</td> <th>  AIC                </th> <td>5222.763</td> \n",
       "</tr>\n",
       "<tr>\n",
       "  <th>Time:</th>                <td>19:58:58</td>     <th>  BIC                </th> <td>5235.389</td> \n",
       "</tr>\n",
       "<tr>\n",
       "  <th>Sample:</th>                  <td>0</td>        <th>  HQIC               </th> <td>5227.719</td> \n",
       "</tr>\n",
       "<tr>\n",
       "  <th></th>                      <td> - 497</td>      <th>                     </th>     <td> </td>    \n",
       "</tr>\n",
       "<tr>\n",
       "  <th>Covariance Type:</th>        <td>opg</td>       <th>                     </th>     <td> </td>    \n",
       "</tr>\n",
       "</table>\n",
       "<table class=\"simpletable\">\n",
       "<tr>\n",
       "     <td></td>       <th>coef</th>     <th>std err</th>      <th>z</th>      <th>P>|z|</th>  <th>[0.025</th>    <th>0.975]</th>  \n",
       "</tr>\n",
       "<tr>\n",
       "  <th>const</th>  <td> 2573.7509</td> <td>  544.007</td> <td>    4.731</td> <td> 0.000</td> <td> 1507.517</td> <td> 3639.985</td>\n",
       "</tr>\n",
       "<tr>\n",
       "  <th>ar.L1</th>  <td>    0.9980</td> <td>    0.003</td> <td>  311.541</td> <td> 0.000</td> <td>    0.992</td> <td>    1.004</td>\n",
       "</tr>\n",
       "<tr>\n",
       "  <th>sigma2</th> <td> 2095.1701</td> <td>   89.015</td> <td>   23.537</td> <td> 0.000</td> <td> 1920.703</td> <td> 2269.637</td>\n",
       "</tr>\n",
       "</table>\n",
       "<table class=\"simpletable\">\n",
       "<tr>\n",
       "  <th>Ljung-Box (L1) (Q):</th>     <td>0.43</td> <th>  Jarque-Bera (JB):  </th> <td>127.26</td>\n",
       "</tr>\n",
       "<tr>\n",
       "  <th>Prob(Q):</th>                <td>0.51</td> <th>  Prob(JB):          </th>  <td>0.00</td> \n",
       "</tr>\n",
       "<tr>\n",
       "  <th>Heteroskedasticity (H):</th> <td>2.36</td> <th>  Skew:              </th>  <td>0.16</td> \n",
       "</tr>\n",
       "<tr>\n",
       "  <th>Prob(H) (two-sided):</th>    <td>0.00</td> <th>  Kurtosis:          </th>  <td>5.46</td> \n",
       "</tr>\n",
       "</table><br/><br/>Warnings:<br/>[1] Covariance matrix calculated using the outer product of gradients (complex-step)."
      ],
      "text/plain": [
       "<class 'statsmodels.iolib.summary.Summary'>\n",
       "\"\"\"\n",
       "                               SARIMAX Results                                \n",
       "==============================================================================\n",
       "Dep. Variable:                  close   No. Observations:                  497\n",
       "Model:                 ARIMA(1, 0, 0)   Log Likelihood               -2608.381\n",
       "Date:                Wed, 06 Apr 2022   AIC                           5222.763\n",
       "Time:                        19:58:58   BIC                           5235.389\n",
       "Sample:                             0   HQIC                          5227.719\n",
       "                                - 497                                         \n",
       "Covariance Type:                  opg                                         \n",
       "==============================================================================\n",
       "                 coef    std err          z      P>|z|      [0.025      0.975]\n",
       "------------------------------------------------------------------------------\n",
       "const       2573.7509    544.007      4.731      0.000    1507.517    3639.985\n",
       "ar.L1          0.9980      0.003    311.541      0.000       0.992       1.004\n",
       "sigma2      2095.1701     89.015     23.537      0.000    1920.703    2269.637\n",
       "===================================================================================\n",
       "Ljung-Box (L1) (Q):                   0.43   Jarque-Bera (JB):               127.26\n",
       "Prob(Q):                              0.51   Prob(JB):                         0.00\n",
       "Heteroskedasticity (H):               2.36   Skew:                             0.16\n",
       "Prob(H) (two-sided):                  0.00   Kurtosis:                         5.46\n",
       "===================================================================================\n",
       "\n",
       "Warnings:\n",
       "[1] Covariance matrix calculated using the outer product of gradients (complex-step).\n",
       "\"\"\""
      ]
     },
     "execution_count": 193,
     "metadata": {},
     "output_type": "execute_result"
    }
   ],
   "source": [
    "ar1model= ARIMA(df, order=[1,0,0]).fit()\n",
    "ar1model.summary()"
   ]
  },
  {
   "cell_type": "code",
   "execution_count": null,
   "id": "42ccf7ef",
   "metadata": {},
   "outputs": [],
   "source": []
  },
  {
   "cell_type": "code",
   "execution_count": null,
   "id": "e5691c3e",
   "metadata": {},
   "outputs": [],
   "source": [
    "## AR Model with 2 lags"
   ]
  },
  {
   "cell_type": "code",
   "execution_count": 194,
   "id": "2d92b341",
   "metadata": {},
   "outputs": [
    {
     "data": {
      "text/html": [
       "<table class=\"simpletable\">\n",
       "<caption>SARIMAX Results</caption>\n",
       "<tr>\n",
       "  <th>Dep. Variable:</th>         <td>close</td>      <th>  No. Observations:  </th>    <td>497</td>   \n",
       "</tr>\n",
       "<tr>\n",
       "  <th>Model:</th>            <td>ARIMA(2, 0, 0)</td>  <th>  Log Likelihood     </th> <td>-2607.932</td>\n",
       "</tr>\n",
       "<tr>\n",
       "  <th>Date:</th>            <td>Wed, 06 Apr 2022</td> <th>  AIC                </th> <td>5223.863</td> \n",
       "</tr>\n",
       "<tr>\n",
       "  <th>Time:</th>                <td>19:59:05</td>     <th>  BIC                </th> <td>5240.698</td> \n",
       "</tr>\n",
       "<tr>\n",
       "  <th>Sample:</th>                  <td>0</td>        <th>  HQIC               </th> <td>5230.471</td> \n",
       "</tr>\n",
       "<tr>\n",
       "  <th></th>                      <td> - 497</td>      <th>                     </th>     <td> </td>    \n",
       "</tr>\n",
       "<tr>\n",
       "  <th>Covariance Type:</th>        <td>opg</td>       <th>                     </th>     <td> </td>    \n",
       "</tr>\n",
       "</table>\n",
       "<table class=\"simpletable\">\n",
       "<tr>\n",
       "     <td></td>       <th>coef</th>     <th>std err</th>      <th>z</th>      <th>P>|z|</th>  <th>[0.025</th>    <th>0.975]</th>  \n",
       "</tr>\n",
       "<tr>\n",
       "  <th>const</th>  <td> 2573.7992</td> <td>  528.717</td> <td>    4.868</td> <td> 0.000</td> <td> 1537.533</td> <td> 3610.066</td>\n",
       "</tr>\n",
       "<tr>\n",
       "  <th>ar.L1</th>  <td>    1.0407</td> <td>    0.040</td> <td>   26.234</td> <td> 0.000</td> <td>    0.963</td> <td>    1.118</td>\n",
       "</tr>\n",
       "<tr>\n",
       "  <th>ar.L2</th>  <td>   -0.0428</td> <td>    0.039</td> <td>   -1.086</td> <td> 0.277</td> <td>   -0.120</td> <td>    0.034</td>\n",
       "</tr>\n",
       "<tr>\n",
       "  <th>sigma2</th> <td> 2091.6765</td> <td>   89.591</td> <td>   23.347</td> <td> 0.000</td> <td> 1916.082</td> <td> 2267.271</td>\n",
       "</tr>\n",
       "</table>\n",
       "<table class=\"simpletable\">\n",
       "<tr>\n",
       "  <th>Ljung-Box (L1) (Q):</th>     <td>0.14</td> <th>  Jarque-Bera (JB):  </th> <td>123.89</td>\n",
       "</tr>\n",
       "<tr>\n",
       "  <th>Prob(Q):</th>                <td>0.71</td> <th>  Prob(JB):          </th>  <td>0.00</td> \n",
       "</tr>\n",
       "<tr>\n",
       "  <th>Heteroskedasticity (H):</th> <td>2.30</td> <th>  Skew:              </th>  <td>0.18</td> \n",
       "</tr>\n",
       "<tr>\n",
       "  <th>Prob(H) (two-sided):</th>    <td>0.00</td> <th>  Kurtosis:          </th>  <td>5.42</td> \n",
       "</tr>\n",
       "</table><br/><br/>Warnings:<br/>[1] Covariance matrix calculated using the outer product of gradients (complex-step)."
      ],
      "text/plain": [
       "<class 'statsmodels.iolib.summary.Summary'>\n",
       "\"\"\"\n",
       "                               SARIMAX Results                                \n",
       "==============================================================================\n",
       "Dep. Variable:                  close   No. Observations:                  497\n",
       "Model:                 ARIMA(2, 0, 0)   Log Likelihood               -2607.932\n",
       "Date:                Wed, 06 Apr 2022   AIC                           5223.863\n",
       "Time:                        19:59:05   BIC                           5240.698\n",
       "Sample:                             0   HQIC                          5230.471\n",
       "                                - 497                                         \n",
       "Covariance Type:                  opg                                         \n",
       "==============================================================================\n",
       "                 coef    std err          z      P>|z|      [0.025      0.975]\n",
       "------------------------------------------------------------------------------\n",
       "const       2573.7992    528.717      4.868      0.000    1537.533    3610.066\n",
       "ar.L1          1.0407      0.040     26.234      0.000       0.963       1.118\n",
       "ar.L2         -0.0428      0.039     -1.086      0.277      -0.120       0.034\n",
       "sigma2      2091.6765     89.591     23.347      0.000    1916.082    2267.271\n",
       "===================================================================================\n",
       "Ljung-Box (L1) (Q):                   0.14   Jarque-Bera (JB):               123.89\n",
       "Prob(Q):                              0.71   Prob(JB):                         0.00\n",
       "Heteroskedasticity (H):               2.30   Skew:                             0.18\n",
       "Prob(H) (two-sided):                  0.00   Kurtosis:                         5.42\n",
       "===================================================================================\n",
       "\n",
       "Warnings:\n",
       "[1] Covariance matrix calculated using the outer product of gradients (complex-step).\n",
       "\"\"\""
      ]
     },
     "execution_count": 194,
     "metadata": {},
     "output_type": "execute_result"
    }
   ],
   "source": [
    "ar2model= ARIMA(df, order=[2,0,0]).fit()\n",
    "ar2model.summary()"
   ]
  },
  {
   "cell_type": "markdown",
   "id": "3042ce8d",
   "metadata": {},
   "source": [
    "## Result: AR2 is having slightly lower AIC value, but as.L2 variable is not significant in AR2 model"
   ]
  },
  {
   "cell_type": "code",
   "execution_count": null,
   "id": "a6976229",
   "metadata": {},
   "outputs": [],
   "source": []
  },
  {
   "cell_type": "code",
   "execution_count": null,
   "id": "76fbd4e3",
   "metadata": {},
   "outputs": [],
   "source": [
    "## Moving Average 1"
   ]
  },
  {
   "cell_type": "code",
   "execution_count": 195,
   "id": "bdaf3065",
   "metadata": {},
   "outputs": [
    {
     "data": {
      "text/html": [
       "<table class=\"simpletable\">\n",
       "<caption>SARIMAX Results</caption>\n",
       "<tr>\n",
       "  <th>Dep. Variable:</th>         <td>close</td>      <th>  No. Observations:  </th>    <td>497</td>   \n",
       "</tr>\n",
       "<tr>\n",
       "  <th>Model:</th>            <td>ARIMA(0, 0, 1)</td>  <th>  Log Likelihood     </th> <td>-3554.998</td>\n",
       "</tr>\n",
       "<tr>\n",
       "  <th>Date:</th>            <td>Wed, 06 Apr 2022</td> <th>  AIC                </th> <td>7115.995</td> \n",
       "</tr>\n",
       "<tr>\n",
       "  <th>Time:</th>                <td>20:01:30</td>     <th>  BIC                </th> <td>7128.621</td> \n",
       "</tr>\n",
       "<tr>\n",
       "  <th>Sample:</th>                  <td>0</td>        <th>  HQIC               </th> <td>7120.951</td> \n",
       "</tr>\n",
       "<tr>\n",
       "  <th></th>                      <td> - 497</td>      <th>                     </th>     <td> </td>    \n",
       "</tr>\n",
       "<tr>\n",
       "  <th>Covariance Type:</th>        <td>opg</td>       <th>                     </th>     <td> </td>    \n",
       "</tr>\n",
       "</table>\n",
       "<table class=\"simpletable\">\n",
       "<tr>\n",
       "     <td></td>       <th>coef</th>     <th>std err</th>      <th>z</th>      <th>P>|z|</th>  <th>[0.025</th>    <th>0.975]</th>  \n",
       "</tr>\n",
       "<tr>\n",
       "  <th>const</th>  <td> 2573.7551</td> <td>   28.648</td> <td>   89.840</td> <td> 0.000</td> <td> 2517.606</td> <td> 2629.904</td>\n",
       "</tr>\n",
       "<tr>\n",
       "  <th>ma.L1</th>  <td>    0.9517</td> <td>    0.016</td> <td>   57.931</td> <td> 0.000</td> <td>    0.919</td> <td>    0.984</td>\n",
       "</tr>\n",
       "<tr>\n",
       "  <th>sigma2</th> <td> 9.515e+04</td> <td> 9568.151</td> <td>    9.944</td> <td> 0.000</td> <td> 7.64e+04</td> <td> 1.14e+05</td>\n",
       "</tr>\n",
       "</table>\n",
       "<table class=\"simpletable\">\n",
       "<tr>\n",
       "  <th>Ljung-Box (L1) (Q):</th>     <td>397.18</td> <th>  Jarque-Bera (JB):  </th> <td>29.08</td>\n",
       "</tr>\n",
       "<tr>\n",
       "  <th>Prob(Q):</th>                 <td>0.00</td>  <th>  Prob(JB):          </th> <td>0.00</td> \n",
       "</tr>\n",
       "<tr>\n",
       "  <th>Heteroskedasticity (H):</th>  <td>0.74</td>  <th>  Skew:              </th> <td>-0.23</td>\n",
       "</tr>\n",
       "<tr>\n",
       "  <th>Prob(H) (two-sided):</th>     <td>0.05</td>  <th>  Kurtosis:          </th> <td>1.91</td> \n",
       "</tr>\n",
       "</table><br/><br/>Warnings:<br/>[1] Covariance matrix calculated using the outer product of gradients (complex-step)."
      ],
      "text/plain": [
       "<class 'statsmodels.iolib.summary.Summary'>\n",
       "\"\"\"\n",
       "                               SARIMAX Results                                \n",
       "==============================================================================\n",
       "Dep. Variable:                  close   No. Observations:                  497\n",
       "Model:                 ARIMA(0, 0, 1)   Log Likelihood               -3554.998\n",
       "Date:                Wed, 06 Apr 2022   AIC                           7115.995\n",
       "Time:                        20:01:30   BIC                           7128.621\n",
       "Sample:                             0   HQIC                          7120.951\n",
       "                                - 497                                         \n",
       "Covariance Type:                  opg                                         \n",
       "==============================================================================\n",
       "                 coef    std err          z      P>|z|      [0.025      0.975]\n",
       "------------------------------------------------------------------------------\n",
       "const       2573.7551     28.648     89.840      0.000    2517.606    2629.904\n",
       "ma.L1          0.9517      0.016     57.931      0.000       0.919       0.984\n",
       "sigma2      9.515e+04   9568.151      9.944      0.000    7.64e+04    1.14e+05\n",
       "===================================================================================\n",
       "Ljung-Box (L1) (Q):                 397.18   Jarque-Bera (JB):                29.08\n",
       "Prob(Q):                              0.00   Prob(JB):                         0.00\n",
       "Heteroskedasticity (H):               0.74   Skew:                            -0.23\n",
       "Prob(H) (two-sided):                  0.05   Kurtosis:                         1.91\n",
       "===================================================================================\n",
       "\n",
       "Warnings:\n",
       "[1] Covariance matrix calculated using the outer product of gradients (complex-step).\n",
       "\"\"\""
      ]
     },
     "execution_count": 195,
     "metadata": {},
     "output_type": "execute_result"
    }
   ],
   "source": [
    "ma1model= ARIMA(df, order=[0,0,1]).fit()\n",
    "ma1model.summary()"
   ]
  },
  {
   "cell_type": "code",
   "execution_count": null,
   "id": "b2e6176f",
   "metadata": {},
   "outputs": [],
   "source": []
  },
  {
   "cell_type": "code",
   "execution_count": null,
   "id": "1607a9dd",
   "metadata": {},
   "outputs": [],
   "source": [
    "## Moving Average 2"
   ]
  },
  {
   "cell_type": "code",
   "execution_count": 196,
   "id": "468bc95b",
   "metadata": {},
   "outputs": [
    {
     "data": {
      "text/html": [
       "<table class=\"simpletable\">\n",
       "<caption>SARIMAX Results</caption>\n",
       "<tr>\n",
       "  <th>Dep. Variable:</th>         <td>close</td>      <th>  No. Observations:  </th>    <td>497</td>   \n",
       "</tr>\n",
       "<tr>\n",
       "  <th>Model:</th>            <td>ARIMA(0, 0, 2)</td>  <th>  Log Likelihood     </th> <td>-3321.289</td>\n",
       "</tr>\n",
       "<tr>\n",
       "  <th>Date:</th>            <td>Wed, 06 Apr 2022</td> <th>  AIC                </th> <td>6650.578</td> \n",
       "</tr>\n",
       "<tr>\n",
       "  <th>Time:</th>                <td>20:01:51</td>     <th>  BIC                </th> <td>6667.413</td> \n",
       "</tr>\n",
       "<tr>\n",
       "  <th>Sample:</th>                  <td>0</td>        <th>  HQIC               </th> <td>6657.186</td> \n",
       "</tr>\n",
       "<tr>\n",
       "  <th></th>                      <td> - 497</td>      <th>                     </th>     <td> </td>    \n",
       "</tr>\n",
       "<tr>\n",
       "  <th>Covariance Type:</th>        <td>opg</td>       <th>                     </th>     <td> </td>    \n",
       "</tr>\n",
       "</table>\n",
       "<table class=\"simpletable\">\n",
       "<tr>\n",
       "     <td></td>       <th>coef</th>     <th>std err</th>      <th>z</th>      <th>P>|z|</th>  <th>[0.025</th>    <th>0.975]</th>  \n",
       "</tr>\n",
       "<tr>\n",
       "  <th>const</th>  <td> 2573.6560</td> <td>   29.407</td> <td>   87.520</td> <td> 0.000</td> <td> 2516.020</td> <td> 2631.292</td>\n",
       "</tr>\n",
       "<tr>\n",
       "  <th>ma.L1</th>  <td>    1.4733</td> <td>    0.030</td> <td>   49.440</td> <td> 0.000</td> <td>    1.415</td> <td>    1.532</td>\n",
       "</tr>\n",
       "<tr>\n",
       "  <th>ma.L2</th>  <td>    0.8529</td> <td>    0.030</td> <td>   28.331</td> <td> 0.000</td> <td>    0.794</td> <td>    0.912</td>\n",
       "</tr>\n",
       "<tr>\n",
       "  <th>sigma2</th> <td> 3.706e+04</td> <td> 3529.483</td> <td>   10.499</td> <td> 0.000</td> <td> 3.01e+04</td> <td>  4.4e+04</td>\n",
       "</tr>\n",
       "</table>\n",
       "<table class=\"simpletable\">\n",
       "<tr>\n",
       "  <th>Ljung-Box (L1) (Q):</th>     <td>248.63</td> <th>  Jarque-Bera (JB):  </th> <td>26.34</td>\n",
       "</tr>\n",
       "<tr>\n",
       "  <th>Prob(Q):</th>                 <td>0.00</td>  <th>  Prob(JB):          </th> <td>0.00</td> \n",
       "</tr>\n",
       "<tr>\n",
       "  <th>Heteroskedasticity (H):</th>  <td>0.76</td>  <th>  Skew:              </th> <td>-0.18</td>\n",
       "</tr>\n",
       "<tr>\n",
       "  <th>Prob(H) (two-sided):</th>     <td>0.08</td>  <th>  Kurtosis:          </th> <td>1.93</td> \n",
       "</tr>\n",
       "</table><br/><br/>Warnings:<br/>[1] Covariance matrix calculated using the outer product of gradients (complex-step)."
      ],
      "text/plain": [
       "<class 'statsmodels.iolib.summary.Summary'>\n",
       "\"\"\"\n",
       "                               SARIMAX Results                                \n",
       "==============================================================================\n",
       "Dep. Variable:                  close   No. Observations:                  497\n",
       "Model:                 ARIMA(0, 0, 2)   Log Likelihood               -3321.289\n",
       "Date:                Wed, 06 Apr 2022   AIC                           6650.578\n",
       "Time:                        20:01:51   BIC                           6667.413\n",
       "Sample:                             0   HQIC                          6657.186\n",
       "                                - 497                                         \n",
       "Covariance Type:                  opg                                         \n",
       "==============================================================================\n",
       "                 coef    std err          z      P>|z|      [0.025      0.975]\n",
       "------------------------------------------------------------------------------\n",
       "const       2573.6560     29.407     87.520      0.000    2516.020    2631.292\n",
       "ma.L1          1.4733      0.030     49.440      0.000       1.415       1.532\n",
       "ma.L2          0.8529      0.030     28.331      0.000       0.794       0.912\n",
       "sigma2      3.706e+04   3529.483     10.499      0.000    3.01e+04     4.4e+04\n",
       "===================================================================================\n",
       "Ljung-Box (L1) (Q):                 248.63   Jarque-Bera (JB):                26.34\n",
       "Prob(Q):                              0.00   Prob(JB):                         0.00\n",
       "Heteroskedasticity (H):               0.76   Skew:                            -0.18\n",
       "Prob(H) (two-sided):                  0.08   Kurtosis:                         1.93\n",
       "===================================================================================\n",
       "\n",
       "Warnings:\n",
       "[1] Covariance matrix calculated using the outer product of gradients (complex-step).\n",
       "\"\"\""
      ]
     },
     "execution_count": 196,
     "metadata": {},
     "output_type": "execute_result"
    }
   ],
   "source": [
    "ma2model= ARIMA(df, order=[0,0,2]).fit()\n",
    "ma2model.summary()"
   ]
  },
  {
   "cell_type": "markdown",
   "id": "b4e39731",
   "metadata": {},
   "source": [
    "## MA2 is having lower AIC value and all the variables are significant"
   ]
  },
  {
   "cell_type": "code",
   "execution_count": null,
   "id": "d6518917",
   "metadata": {},
   "outputs": [],
   "source": []
  },
  {
   "cell_type": "code",
   "execution_count": null,
   "id": "c72c46b5",
   "metadata": {},
   "outputs": [],
   "source": []
  },
  {
   "cell_type": "code",
   "execution_count": 197,
   "id": "e92de778",
   "metadata": {},
   "outputs": [
    {
     "name": "stdout",
     "output_type": "stream",
     "text": [
      "Examples of parameter combinations for Model...\n",
      "Model: (0, 0, 1)(0, 0, 1)\n",
      "Model: (0, 0, 1)(0, 0, 2)\n",
      "Model: (0, 0, 2)(0, 0, 3)\n",
      "Model: (0, 0, 2)(0, 1, 0)\n"
     ]
    }
   ],
   "source": [
    "import itertools\n",
    "p = q = range(0, 4)\n",
    "d= range(0,2)\n",
    "pdq = list(itertools.product(p, d, q))\n",
    "model_pdq = [(x[0], x[1], x[2]) for x in list(itertools.product(p, d, q))]\n",
    "print('Examples of parameter combinations for Model...')\n",
    "print('Model: {}{}'.format(pdq[1], model_pdq[1]))\n",
    "print('Model: {}{}'.format(pdq[1], model_pdq[2]))\n",
    "print('Model: {}{}'.format(pdq[2], model_pdq[3]))\n",
    "print('Model: {}{}'.format(pdq[2], model_pdq[4]))"
   ]
  },
  {
   "cell_type": "code",
   "execution_count": 198,
   "id": "a63b5789",
   "metadata": {},
   "outputs": [
    {
     "data": {
      "text/html": [
       "<div>\n",
       "<style scoped>\n",
       "    .dataframe tbody tr th:only-of-type {\n",
       "        vertical-align: middle;\n",
       "    }\n",
       "\n",
       "    .dataframe tbody tr th {\n",
       "        vertical-align: top;\n",
       "    }\n",
       "\n",
       "    .dataframe thead th {\n",
       "        text-align: right;\n",
       "    }\n",
       "</style>\n",
       "<table border=\"1\" class=\"dataframe\">\n",
       "  <thead>\n",
       "    <tr style=\"text-align: right;\">\n",
       "      <th></th>\n",
       "      <th>param</th>\n",
       "      <th>AIC</th>\n",
       "    </tr>\n",
       "  </thead>\n",
       "  <tbody>\n",
       "  </tbody>\n",
       "</table>\n",
       "</div>"
      ],
      "text/plain": [
       "Empty DataFrame\n",
       "Columns: [param, AIC]\n",
       "Index: []"
      ]
     },
     "execution_count": 198,
     "metadata": {},
     "output_type": "execute_result"
    }
   ],
   "source": [
    "arima_AIC= pd.DataFrame(columns=['param', 'AIC'])\n",
    "arima_AIC"
   ]
  },
  {
   "cell_type": "code",
   "execution_count": 199,
   "id": "35427ec9",
   "metadata": {},
   "outputs": [
    {
     "name": "stdout",
     "output_type": "stream",
     "text": [
      "ARIMA(0, 0, 0) - AIC: 7748.885107877204\n",
      "ARIMA(0, 0, 1) - AIC: 7115.995458568637\n",
      "ARIMA(0, 0, 2) - AIC: 6650.578224233797\n",
      "ARIMA(0, 0, 3) - AIC: 6319.611730264492\n",
      "ARIMA(0, 1, 0) - AIC: 5203.088230072282\n",
      "ARIMA(0, 1, 1) - AIC: 5204.352253422356\n",
      "ARIMA(0, 1, 2) - AIC: 5201.840475750023\n",
      "ARIMA(0, 1, 3) - AIC: 5203.838404429634\n",
      "ARIMA(1, 0, 0) - AIC: 5222.762994370653\n",
      "ARIMA(1, 0, 1) - AIC: 5223.99890545264\n",
      "ARIMA(1, 0, 2) - AIC: 5221.35068191764\n",
      "ARIMA(1, 0, 3) - AIC: 5223.350414912928\n",
      "ARIMA(1, 1, 0) - AIC: 5204.223978623556\n",
      "ARIMA(1, 1, 1) - AIC: 5205.16783000108\n",
      "ARIMA(1, 1, 2) - AIC: 5203.839776858663\n",
      "ARIMA(1, 1, 3) - AIC: 5204.402822107033\n",
      "ARIMA(2, 0, 0) - AIC: 5223.8631987549\n",
      "ARIMA(2, 0, 1) - AIC: 5226.471289745335\n",
      "ARIMA(2, 0, 2) - AIC: 5223.350580866509\n",
      "ARIMA(2, 0, 3) - AIC: 5225.350585329011\n",
      "ARIMA(2, 1, 0) - AIC: 5202.593653770706\n",
      "ARIMA(2, 1, 1) - AIC: 5204.528678988128\n",
      "ARIMA(2, 1, 2) - AIC: 5203.7597999931395\n",
      "ARIMA(2, 1, 3) - AIC: 5204.940865551281\n",
      "ARIMA(3, 0, 0) - AIC: 5222.109119060591\n",
      "ARIMA(3, 0, 1) - AIC: 5224.051366837852\n",
      "ARIMA(3, 0, 2) - AIC: 5225.39827321047\n",
      "ARIMA(3, 0, 3) - AIC: 5225.121096671189\n",
      "ARIMA(3, 1, 0) - AIC: 5204.411226169921\n",
      "ARIMA(3, 1, 1) - AIC: 5204.9164781293875\n",
      "ARIMA(3, 1, 2) - AIC: 5204.894320859037\n",
      "ARIMA(3, 1, 3) - AIC: 5206.845933937449\n"
     ]
    }
   ],
   "source": [
    "for param in pdq:\n",
    "    arima_mod= ARIMA(df, order=param).fit()\n",
    "    print('ARIMA{} - AIC: {}'.format(param,arima_mod.aic))\n",
    "    arima_AIC= arima_AIC.append({'param':param, 'AIC':arima_mod.aic}, ignore_index=True)"
   ]
  },
  {
   "cell_type": "code",
   "execution_count": 200,
   "id": "ee5421b4",
   "metadata": {},
   "outputs": [
    {
     "data": {
      "text/html": [
       "<div>\n",
       "<style scoped>\n",
       "    .dataframe tbody tr th:only-of-type {\n",
       "        vertical-align: middle;\n",
       "    }\n",
       "\n",
       "    .dataframe tbody tr th {\n",
       "        vertical-align: top;\n",
       "    }\n",
       "\n",
       "    .dataframe thead th {\n",
       "        text-align: right;\n",
       "    }\n",
       "</style>\n",
       "<table border=\"1\" class=\"dataframe\">\n",
       "  <thead>\n",
       "    <tr style=\"text-align: right;\">\n",
       "      <th></th>\n",
       "      <th>param</th>\n",
       "      <th>AIC</th>\n",
       "    </tr>\n",
       "  </thead>\n",
       "  <tbody>\n",
       "    <tr>\n",
       "      <th>6</th>\n",
       "      <td>(0, 1, 2)</td>\n",
       "      <td>5201.840476</td>\n",
       "    </tr>\n",
       "    <tr>\n",
       "      <th>20</th>\n",
       "      <td>(2, 1, 0)</td>\n",
       "      <td>5202.593654</td>\n",
       "    </tr>\n",
       "    <tr>\n",
       "      <th>4</th>\n",
       "      <td>(0, 1, 0)</td>\n",
       "      <td>5203.088230</td>\n",
       "    </tr>\n",
       "    <tr>\n",
       "      <th>22</th>\n",
       "      <td>(2, 1, 2)</td>\n",
       "      <td>5203.759800</td>\n",
       "    </tr>\n",
       "    <tr>\n",
       "      <th>7</th>\n",
       "      <td>(0, 1, 3)</td>\n",
       "      <td>5203.838404</td>\n",
       "    </tr>\n",
       "    <tr>\n",
       "      <th>14</th>\n",
       "      <td>(1, 1, 2)</td>\n",
       "      <td>5203.839777</td>\n",
       "    </tr>\n",
       "    <tr>\n",
       "      <th>12</th>\n",
       "      <td>(1, 1, 0)</td>\n",
       "      <td>5204.223979</td>\n",
       "    </tr>\n",
       "    <tr>\n",
       "      <th>5</th>\n",
       "      <td>(0, 1, 1)</td>\n",
       "      <td>5204.352253</td>\n",
       "    </tr>\n",
       "    <tr>\n",
       "      <th>15</th>\n",
       "      <td>(1, 1, 3)</td>\n",
       "      <td>5204.402822</td>\n",
       "    </tr>\n",
       "    <tr>\n",
       "      <th>28</th>\n",
       "      <td>(3, 1, 0)</td>\n",
       "      <td>5204.411226</td>\n",
       "    </tr>\n",
       "    <tr>\n",
       "      <th>21</th>\n",
       "      <td>(2, 1, 1)</td>\n",
       "      <td>5204.528679</td>\n",
       "    </tr>\n",
       "    <tr>\n",
       "      <th>30</th>\n",
       "      <td>(3, 1, 2)</td>\n",
       "      <td>5204.894321</td>\n",
       "    </tr>\n",
       "    <tr>\n",
       "      <th>29</th>\n",
       "      <td>(3, 1, 1)</td>\n",
       "      <td>5204.916478</td>\n",
       "    </tr>\n",
       "    <tr>\n",
       "      <th>23</th>\n",
       "      <td>(2, 1, 3)</td>\n",
       "      <td>5204.940866</td>\n",
       "    </tr>\n",
       "    <tr>\n",
       "      <th>13</th>\n",
       "      <td>(1, 1, 1)</td>\n",
       "      <td>5205.167830</td>\n",
       "    </tr>\n",
       "    <tr>\n",
       "      <th>31</th>\n",
       "      <td>(3, 1, 3)</td>\n",
       "      <td>5206.845934</td>\n",
       "    </tr>\n",
       "    <tr>\n",
       "      <th>10</th>\n",
       "      <td>(1, 0, 2)</td>\n",
       "      <td>5221.350682</td>\n",
       "    </tr>\n",
       "    <tr>\n",
       "      <th>24</th>\n",
       "      <td>(3, 0, 0)</td>\n",
       "      <td>5222.109119</td>\n",
       "    </tr>\n",
       "    <tr>\n",
       "      <th>8</th>\n",
       "      <td>(1, 0, 0)</td>\n",
       "      <td>5222.762994</td>\n",
       "    </tr>\n",
       "    <tr>\n",
       "      <th>11</th>\n",
       "      <td>(1, 0, 3)</td>\n",
       "      <td>5223.350415</td>\n",
       "    </tr>\n",
       "    <tr>\n",
       "      <th>18</th>\n",
       "      <td>(2, 0, 2)</td>\n",
       "      <td>5223.350581</td>\n",
       "    </tr>\n",
       "    <tr>\n",
       "      <th>16</th>\n",
       "      <td>(2, 0, 0)</td>\n",
       "      <td>5223.863199</td>\n",
       "    </tr>\n",
       "    <tr>\n",
       "      <th>9</th>\n",
       "      <td>(1, 0, 1)</td>\n",
       "      <td>5223.998905</td>\n",
       "    </tr>\n",
       "    <tr>\n",
       "      <th>25</th>\n",
       "      <td>(3, 0, 1)</td>\n",
       "      <td>5224.051367</td>\n",
       "    </tr>\n",
       "    <tr>\n",
       "      <th>27</th>\n",
       "      <td>(3, 0, 3)</td>\n",
       "      <td>5225.121097</td>\n",
       "    </tr>\n",
       "    <tr>\n",
       "      <th>19</th>\n",
       "      <td>(2, 0, 3)</td>\n",
       "      <td>5225.350585</td>\n",
       "    </tr>\n",
       "    <tr>\n",
       "      <th>26</th>\n",
       "      <td>(3, 0, 2)</td>\n",
       "      <td>5225.398273</td>\n",
       "    </tr>\n",
       "    <tr>\n",
       "      <th>17</th>\n",
       "      <td>(2, 0, 1)</td>\n",
       "      <td>5226.471290</td>\n",
       "    </tr>\n",
       "    <tr>\n",
       "      <th>3</th>\n",
       "      <td>(0, 0, 3)</td>\n",
       "      <td>6319.611730</td>\n",
       "    </tr>\n",
       "    <tr>\n",
       "      <th>2</th>\n",
       "      <td>(0, 0, 2)</td>\n",
       "      <td>6650.578224</td>\n",
       "    </tr>\n",
       "    <tr>\n",
       "      <th>1</th>\n",
       "      <td>(0, 0, 1)</td>\n",
       "      <td>7115.995459</td>\n",
       "    </tr>\n",
       "    <tr>\n",
       "      <th>0</th>\n",
       "      <td>(0, 0, 0)</td>\n",
       "      <td>7748.885108</td>\n",
       "    </tr>\n",
       "  </tbody>\n",
       "</table>\n",
       "</div>"
      ],
      "text/plain": [
       "        param          AIC\n",
       "6   (0, 1, 2)  5201.840476\n",
       "20  (2, 1, 0)  5202.593654\n",
       "4   (0, 1, 0)  5203.088230\n",
       "22  (2, 1, 2)  5203.759800\n",
       "7   (0, 1, 3)  5203.838404\n",
       "14  (1, 1, 2)  5203.839777\n",
       "12  (1, 1, 0)  5204.223979\n",
       "5   (0, 1, 1)  5204.352253\n",
       "15  (1, 1, 3)  5204.402822\n",
       "28  (3, 1, 0)  5204.411226\n",
       "21  (2, 1, 1)  5204.528679\n",
       "30  (3, 1, 2)  5204.894321\n",
       "29  (3, 1, 1)  5204.916478\n",
       "23  (2, 1, 3)  5204.940866\n",
       "13  (1, 1, 1)  5205.167830\n",
       "31  (3, 1, 3)  5206.845934\n",
       "10  (1, 0, 2)  5221.350682\n",
       "24  (3, 0, 0)  5222.109119\n",
       "8   (1, 0, 0)  5222.762994\n",
       "11  (1, 0, 3)  5223.350415\n",
       "18  (2, 0, 2)  5223.350581\n",
       "16  (2, 0, 0)  5223.863199\n",
       "9   (1, 0, 1)  5223.998905\n",
       "25  (3, 0, 1)  5224.051367\n",
       "27  (3, 0, 3)  5225.121097\n",
       "19  (2, 0, 3)  5225.350585\n",
       "26  (3, 0, 2)  5225.398273\n",
       "17  (2, 0, 1)  5226.471290\n",
       "3   (0, 0, 3)  6319.611730\n",
       "2   (0, 0, 2)  6650.578224\n",
       "1   (0, 0, 1)  7115.995459\n",
       "0   (0, 0, 0)  7748.885108"
      ]
     },
     "execution_count": 200,
     "metadata": {},
     "output_type": "execute_result"
    }
   ],
   "source": [
    "arima_AIC.sort_values(by='AIC', ascending=True)"
   ]
  },
  {
   "cell_type": "markdown",
   "id": "5bf8f75d",
   "metadata": {},
   "source": [
    "## Result: (0,1,2) order of (p,d,q) is giving the lowest AIC value"
   ]
  },
  {
   "cell_type": "code",
   "execution_count": null,
   "id": "6b3b1c63",
   "metadata": {},
   "outputs": [],
   "source": []
  },
  {
   "cell_type": "code",
   "execution_count": 202,
   "id": "349a9692",
   "metadata": {},
   "outputs": [],
   "source": [
    "from pmdarima import auto_arima"
   ]
  },
  {
   "cell_type": "code",
   "execution_count": 203,
   "id": "20e50a8b",
   "metadata": {},
   "outputs": [
    {
     "name": "stdout",
     "output_type": "stream",
     "text": [
      "Performing stepwise search to minimize aic\n",
      " ARIMA(1,1,1)(0,1,1)[12]             : AIC=inf, Time=0.76 sec\n",
      " ARIMA(0,1,0)(0,1,0)[12]             : AIC=5404.030, Time=0.02 sec\n",
      " ARIMA(1,1,0)(1,1,0)[12]             : AIC=5264.668, Time=0.16 sec\n",
      " ARIMA(0,1,1)(0,1,1)[12]             : AIC=inf, Time=0.34 sec\n",
      " ARIMA(1,1,0)(0,1,0)[12]             : AIC=5403.999, Time=0.02 sec\n",
      " ARIMA(1,1,0)(2,1,0)[12]             : AIC=5224.873, Time=0.38 sec\n",
      " ARIMA(1,1,0)(2,1,1)[12]             : AIC=inf, Time=1.23 sec\n",
      " ARIMA(1,1,0)(1,1,1)[12]             : AIC=inf, Time=0.52 sec\n",
      " ARIMA(0,1,0)(2,1,0)[12]             : AIC=5223.316, Time=0.25 sec\n",
      " ARIMA(0,1,0)(1,1,0)[12]             : AIC=5262.724, Time=0.11 sec\n",
      " ARIMA(0,1,0)(2,1,1)[12]             : AIC=inf, Time=0.97 sec\n",
      " ARIMA(0,1,0)(1,1,1)[12]             : AIC=inf, Time=0.58 sec\n",
      " ARIMA(0,1,1)(2,1,0)[12]             : AIC=5224.960, Time=0.42 sec\n",
      " ARIMA(1,1,1)(2,1,0)[12]             : AIC=inf, Time=2.25 sec\n",
      " ARIMA(0,1,0)(2,1,0)[12] intercept   : AIC=5225.300, Time=0.80 sec\n",
      "\n",
      "Best model:  ARIMA(0,1,0)(2,1,0)[12]          \n",
      "Total fit time: 8.834 seconds\n"
     ]
    },
    {
     "data": {
      "text/plain": [
       "ARIMA(order=(0, 1, 0), scoring_args={}, seasonal_order=(2, 1, 0, 12),\n",
       "      suppress_warnings=True, with_intercept=False)"
      ]
     },
     "execution_count": 203,
     "metadata": {},
     "output_type": "execute_result"
    }
   ],
   "source": [
    "auto_arima(df, start_p=1, start_q=1,\n",
    "                           max_p=3, max_q=3, m=12,\n",
    "                           start_P=0, seasonal=True,\n",
    "                           d=1, D=1, trace=True,\n",
    "                           error_action='ignore',  \n",
    "                           suppress_warnings=True, \n",
    "                           stepwise=True)"
   ]
  },
  {
   "cell_type": "code",
   "execution_count": null,
   "id": "948d8cd1",
   "metadata": {},
   "outputs": [],
   "source": []
  },
  {
   "cell_type": "code",
   "execution_count": null,
   "id": "517f1bfb",
   "metadata": {},
   "outputs": [],
   "source": []
  },
  {
   "cell_type": "code",
   "execution_count": 207,
   "id": "f8505c78",
   "metadata": {},
   "outputs": [
    {
     "data": {
      "text/plain": [
       "(372, 1)"
      ]
     },
     "execution_count": 207,
     "metadata": {},
     "output_type": "execute_result"
    }
   ],
   "source": [
    "train.shape"
   ]
  },
  {
   "cell_type": "code",
   "execution_count": 208,
   "id": "5a3fc9b1",
   "metadata": {},
   "outputs": [
    {
     "data": {
      "text/plain": [
       "(125, 1)"
      ]
     },
     "execution_count": 208,
     "metadata": {},
     "output_type": "execute_result"
    }
   ],
   "source": [
    "test.shape"
   ]
  },
  {
   "cell_type": "code",
   "execution_count": 212,
   "id": "f982f474",
   "metadata": {},
   "outputs": [
    {
     "data": {
      "text/html": [
       "<table class=\"simpletable\">\n",
       "<caption>SARIMAX Results</caption>\n",
       "<tr>\n",
       "  <th>Dep. Variable:</th>         <td>close</td>      <th>  No. Observations:  </th>    <td>372</td>   \n",
       "</tr>\n",
       "<tr>\n",
       "  <th>Model:</th>            <td>ARIMA(0, 1, 2)</td>  <th>  Log Likelihood     </th> <td>-1909.849</td>\n",
       "</tr>\n",
       "<tr>\n",
       "  <th>Date:</th>            <td>Wed, 06 Apr 2022</td> <th>  AIC                </th> <td>3825.698</td> \n",
       "</tr>\n",
       "<tr>\n",
       "  <th>Time:</th>                <td>20:38:08</td>     <th>  BIC                </th> <td>3837.447</td> \n",
       "</tr>\n",
       "<tr>\n",
       "  <th>Sample:</th>                  <td>0</td>        <th>  HQIC               </th> <td>3830.364</td> \n",
       "</tr>\n",
       "<tr>\n",
       "  <th></th>                      <td> - 372</td>      <th>                     </th>     <td> </td>    \n",
       "</tr>\n",
       "<tr>\n",
       "  <th>Covariance Type:</th>        <td>opg</td>       <th>                     </th>     <td> </td>    \n",
       "</tr>\n",
       "</table>\n",
       "<table class=\"simpletable\">\n",
       "<tr>\n",
       "     <td></td>       <th>coef</th>     <th>std err</th>      <th>z</th>      <th>P>|z|</th>  <th>[0.025</th>    <th>0.975]</th>  \n",
       "</tr>\n",
       "<tr>\n",
       "  <th>ma.L1</th>  <td>   -0.0235</td> <td>    0.051</td> <td>   -0.459</td> <td> 0.646</td> <td>   -0.124</td> <td>    0.077</td>\n",
       "</tr>\n",
       "<tr>\n",
       "  <th>ma.L2</th>  <td>    0.1052</td> <td>    0.056</td> <td>    1.871</td> <td> 0.061</td> <td>   -0.005</td> <td>    0.215</td>\n",
       "</tr>\n",
       "<tr>\n",
       "  <th>sigma2</th> <td> 1729.0501</td> <td>   79.609</td> <td>   21.719</td> <td> 0.000</td> <td> 1573.018</td> <td> 1885.082</td>\n",
       "</tr>\n",
       "</table>\n",
       "<table class=\"simpletable\">\n",
       "<tr>\n",
       "  <th>Ljung-Box (L1) (Q):</th>     <td>0.08</td> <th>  Jarque-Bera (JB):  </th> <td>158.00</td>\n",
       "</tr>\n",
       "<tr>\n",
       "  <th>Prob(Q):</th>                <td>0.77</td> <th>  Prob(JB):          </th>  <td>0.00</td> \n",
       "</tr>\n",
       "<tr>\n",
       "  <th>Heteroskedasticity (H):</th> <td>1.79</td> <th>  Skew:              </th>  <td>0.74</td> \n",
       "</tr>\n",
       "<tr>\n",
       "  <th>Prob(H) (two-sided):</th>    <td>0.00</td> <th>  Kurtosis:          </th>  <td>5.84</td> \n",
       "</tr>\n",
       "</table><br/><br/>Warnings:<br/>[1] Covariance matrix calculated using the outer product of gradients (complex-step)."
      ],
      "text/plain": [
       "<class 'statsmodels.iolib.summary.Summary'>\n",
       "\"\"\"\n",
       "                               SARIMAX Results                                \n",
       "==============================================================================\n",
       "Dep. Variable:                  close   No. Observations:                  372\n",
       "Model:                 ARIMA(0, 1, 2)   Log Likelihood               -1909.849\n",
       "Date:                Wed, 06 Apr 2022   AIC                           3825.698\n",
       "Time:                        20:38:08   BIC                           3837.447\n",
       "Sample:                             0   HQIC                          3830.364\n",
       "                                - 372                                         \n",
       "Covariance Type:                  opg                                         \n",
       "==============================================================================\n",
       "                 coef    std err          z      P>|z|      [0.025      0.975]\n",
       "------------------------------------------------------------------------------\n",
       "ma.L1         -0.0235      0.051     -0.459      0.646      -0.124       0.077\n",
       "ma.L2          0.1052      0.056      1.871      0.061      -0.005       0.215\n",
       "sigma2      1729.0501     79.609     21.719      0.000    1573.018    1885.082\n",
       "===================================================================================\n",
       "Ljung-Box (L1) (Q):                   0.08   Jarque-Bera (JB):               158.00\n",
       "Prob(Q):                              0.77   Prob(JB):                         0.00\n",
       "Heteroskedasticity (H):               1.79   Skew:                             0.74\n",
       "Prob(H) (two-sided):                  0.00   Kurtosis:                         5.84\n",
       "===================================================================================\n",
       "\n",
       "Warnings:\n",
       "[1] Covariance matrix calculated using the outer product of gradients (complex-step).\n",
       "\"\"\""
      ]
     },
     "execution_count": 212,
     "metadata": {},
     "output_type": "execute_result"
    }
   ],
   "source": [
    "#ARIMA model --> order(0,1,2)\n",
    "\n",
    "model_AR=  ARIMA(train, order= (0,1,2))\n",
    "\n",
    "#Fitting the model\n",
    "model_AR= model_AR.fit()\n",
    "model_AR.summary()"
   ]
  },
  {
   "cell_type": "code",
   "execution_count": 213,
   "id": "c6b55fa8",
   "metadata": {},
   "outputs": [
    {
     "name": "stdout",
     "output_type": "stream",
     "text": [
      "372    3240.409471\n",
      "373    3232.735136\n",
      "374    3232.735136\n",
      "375    3232.735136\n",
      "376    3232.735136\n",
      "          ...     \n",
      "492    3232.735136\n",
      "493    3232.735136\n",
      "494    3232.735136\n",
      "495    3232.735136\n",
      "496    3232.735136\n",
      "Name: predicted_mean, Length: 125, dtype: float64\n"
     ]
    }
   ],
   "source": [
    "start1= len(train)\n",
    "end1= len(train) + len(test) -1\n",
    "\n",
    "AR_predict =  model_AR.predict(start= start1, end= end1,typ= 'levels') \n",
    "print(AR_predict)"
   ]
  },
  {
   "cell_type": "code",
   "execution_count": 214,
   "id": "8006d043",
   "metadata": {},
   "outputs": [
    {
     "data": {
      "text/html": [
       "<div>\n",
       "<style scoped>\n",
       "    .dataframe tbody tr th:only-of-type {\n",
       "        vertical-align: middle;\n",
       "    }\n",
       "\n",
       "    .dataframe tbody tr th {\n",
       "        vertical-align: top;\n",
       "    }\n",
       "\n",
       "    .dataframe thead th {\n",
       "        text-align: right;\n",
       "    }\n",
       "</style>\n",
       "<table border=\"1\" class=\"dataframe\">\n",
       "  <thead>\n",
       "    <tr style=\"text-align: right;\">\n",
       "      <th></th>\n",
       "      <th>0</th>\n",
       "    </tr>\n",
       "  </thead>\n",
       "  <tbody>\n",
       "    <tr>\n",
       "      <th>2021-10-01</th>\n",
       "      <td>3240.409471</td>\n",
       "    </tr>\n",
       "    <tr>\n",
       "      <th>2021-10-04</th>\n",
       "      <td>3232.735136</td>\n",
       "    </tr>\n",
       "    <tr>\n",
       "      <th>2021-10-05</th>\n",
       "      <td>3232.735136</td>\n",
       "    </tr>\n",
       "    <tr>\n",
       "      <th>2021-10-06</th>\n",
       "      <td>3232.735136</td>\n",
       "    </tr>\n",
       "    <tr>\n",
       "      <th>2021-10-07</th>\n",
       "      <td>3232.735136</td>\n",
       "    </tr>\n",
       "    <tr>\n",
       "      <th>...</th>\n",
       "      <td>...</td>\n",
       "    </tr>\n",
       "    <tr>\n",
       "      <th>2022-03-28</th>\n",
       "      <td>3232.735136</td>\n",
       "    </tr>\n",
       "    <tr>\n",
       "      <th>2022-03-29</th>\n",
       "      <td>3232.735136</td>\n",
       "    </tr>\n",
       "    <tr>\n",
       "      <th>2022-03-30</th>\n",
       "      <td>3232.735136</td>\n",
       "    </tr>\n",
       "    <tr>\n",
       "      <th>2022-03-31</th>\n",
       "      <td>3232.735136</td>\n",
       "    </tr>\n",
       "    <tr>\n",
       "      <th>2022-04-01</th>\n",
       "      <td>3232.735136</td>\n",
       "    </tr>\n",
       "  </tbody>\n",
       "</table>\n",
       "<p>125 rows × 1 columns</p>\n",
       "</div>"
      ],
      "text/plain": [
       "                      0\n",
       "2021-10-01  3240.409471\n",
       "2021-10-04  3232.735136\n",
       "2021-10-05  3232.735136\n",
       "2021-10-06  3232.735136\n",
       "2021-10-07  3232.735136\n",
       "...                 ...\n",
       "2022-03-28  3232.735136\n",
       "2022-03-29  3232.735136\n",
       "2022-03-30  3232.735136\n",
       "2022-03-31  3232.735136\n",
       "2022-04-01  3232.735136\n",
       "\n",
       "[125 rows x 1 columns]"
      ]
     },
     "execution_count": 214,
     "metadata": {},
     "output_type": "execute_result"
    }
   ],
   "source": [
    "AR_pred_cust= pd.DataFrame(index= test_ind ,data= AR_predict.values) # Forecast length= Test length\n",
    "AR_pred_cust"
   ]
  },
  {
   "cell_type": "code",
   "execution_count": 217,
   "id": "3d5ed14e",
   "metadata": {},
   "outputs": [
    {
     "data": {
      "image/png": "[encoded data removed]",
      "text/plain": [
       "<Figure size 1080x576 with 1 Axes>"
      ]
     },
     "metadata": {},
     "output_type": "display_data"
    }
   ],
   "source": [
    "## Plotting the Training data, Test data and the forecasted values\n",
    "\n",
    "plt.plot(train, label='Train')\n",
    "plt.plot(test, label='Test')\n",
    "\n",
    "plt.plot(ses_pred_cust, label='Alpha=0.99:Simple Exponential Smoothing predictions on Test Set')\n",
    "plt.plot(DES_pred_cust, label='Alpha=0.099,Beta=0.0001:Double Exponential Smoothing predictions on Test Set')\n",
    "plt.plot(AR_pred_cust, label='AR Model')\n",
    "\n",
    "plt.legend(loc='best')\n",
    "plt.grid()\n",
    "plt.title('Simple and Double Exponential Smoothing Predictions');"
   ]
  },
  {
   "cell_type": "code",
   "execution_count": null,
   "id": "0fc6f650",
   "metadata": {},
   "outputs": [],
   "source": []
  },
  {
   "cell_type": "code",
   "execution_count": null,
   "id": "b4228ba6",
   "metadata": {},
   "outputs": [],
   "source": []
  },
  {
   "cell_type": "code",
   "execution_count": null,
   "id": "faf1c112",
   "metadata": {},
   "outputs": [],
   "source": []
  },
  {
   "cell_type": "code",
   "execution_count": null,
   "id": "23013738",
   "metadata": {},
   "outputs": [],
   "source": []
  }
 ],
 "metadata": {
  "kernelspec": {
   "display_name": "Python 3",
   "language": "python",
   "name": "python3"
  },
  "language_info": {
   "codemirror_mode": {
    "name": "ipython",
    "version": 3
   },
   "file_extension": ".py",
   "mimetype": "text/x-python",
   "name": "python",
   "nbconvert_exporter": "python",
   "pygments_lexer": "ipython3",
   "version": "3.8.8"
  }
 },
 "nbformat": 4,
 "nbformat_minor": 5
}
